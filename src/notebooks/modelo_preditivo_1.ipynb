{
 "cells": [
  {
   "cell_type": "markdown",
   "metadata": {},
   "source": [
    "## Modelo Preditivo"
   ]
  },
  {
   "cell_type": "markdown",
   "metadata": {},
   "source": [
    "PENDENTE: FEATURE ENGINEERING\n",
    "\n",
    "52/4 = 13\n",
    "\n",
    "1: PESSOA_PIPEDRIVE_id_person até FUNIL_ASSINATURA_PIPEDRIVE_id_org\n",
    "2: FUNIL_ASSINATURA_PIPEDRIVE_status até ATENDIMENTOS_AGENDA_Datas Atendimento Médico - Júlia\n",
    "3: ATENDIMENTOS_AGENDA_Qde Atendimentos Acolhimento até PESSOA_PIPEDRIVE_Tem_Canal_de_Preferência\n",
    "4: PESSOA_PIPEDRIVE_has_notes até TWILIO_Data Última Ligações Outbound Recente"
   ]
  },
  {
   "cell_type": "markdown",
   "metadata": {},
   "source": [
    "1. Geração de dataframe com dados pré-processados"
   ]
  },
  {
   "cell_type": "code",
   "execution_count": 2,
   "metadata": {},
   "outputs": [
    {
     "data": {
      "text/html": [
       "<div>\n",
       "<style scoped>\n",
       "    .dataframe tbody tr th:only-of-type {\n",
       "        vertical-align: middle;\n",
       "    }\n",
       "\n",
       "    .dataframe tbody tr th {\n",
       "        vertical-align: top;\n",
       "    }\n",
       "\n",
       "    .dataframe thead th {\n",
       "        text-align: right;\n",
       "    }\n",
       "</style>\n",
       "<table border=\"1\" class=\"dataframe\">\n",
       "  <thead>\n",
       "    <tr style=\"text-align: right;\">\n",
       "      <th></th>\n",
       "      <th>PESSOA_PIPEDRIVE_id_person</th>\n",
       "      <th>PESSOA_PIPEDRIVE_id_gender</th>\n",
       "      <th>PESSOA_PIPEDRIVE_id_marrital_status</th>\n",
       "      <th>PESSOA_PIPEDRIVE_state</th>\n",
       "      <th>PESSOA_PIPEDRIVE_city</th>\n",
       "      <th>PESSOA_PIPEDRIVE_postal_code</th>\n",
       "      <th>PESSOA_PIPEDRIVE_contract_start_date</th>\n",
       "      <th>PESSOA_PIPEDRIVE_contract_end_date</th>\n",
       "      <th>PESSOA_PIPEDRIVE_Canal de Preferência</th>\n",
       "      <th>PESSOA_PIPEDRIVE_notes_count</th>\n",
       "      <th>...</th>\n",
       "      <th>WHOQOL_Psicológico_New</th>\n",
       "      <th>WHOQOL_Social_New</th>\n",
       "      <th>WHOQOL_Ambiental_New</th>\n",
       "      <th>COMUNICARE_Problemas Abertos Bool</th>\n",
       "      <th>TWILIO_Data Última Mensagens Inbound Recente</th>\n",
       "      <th>stay_time</th>\n",
       "      <th>last_stage_concluded</th>\n",
       "      <th>process_time</th>\n",
       "      <th>TWILIO_Data Última Mensagens Outbound Recente</th>\n",
       "      <th>TWILIO_Data Última Ligações Outbound Recente</th>\n",
       "    </tr>\n",
       "  </thead>\n",
       "  <tbody>\n",
       "    <tr>\n",
       "      <th>0</th>\n",
       "      <td>483</td>\n",
       "      <td>64</td>\n",
       "      <td>80</td>\n",
       "      <td>Minas Gerais</td>\n",
       "      <td>Juiz de Fora</td>\n",
       "      <td>36021-600</td>\n",
       "      <td>2021-01-27</td>\n",
       "      <td>2023-08-26</td>\n",
       "      <td>0</td>\n",
       "      <td>3</td>\n",
       "      <td>...</td>\n",
       "      <td>4.0</td>\n",
       "      <td>4.0</td>\n",
       "      <td>4.5</td>\n",
       "      <td>0</td>\n",
       "      <td>False</td>\n",
       "      <td>211 days</td>\n",
       "      <td>Questionário</td>\n",
       "      <td>2022-04-19 15:19:40</td>\n",
       "      <td>True</td>\n",
       "      <td>True</td>\n",
       "    </tr>\n",
       "    <tr>\n",
       "      <th>1</th>\n",
       "      <td>654</td>\n",
       "      <td>64</td>\n",
       "      <td>82</td>\n",
       "      <td>Rio de Janeiro</td>\n",
       "      <td>Rio de Janeiro</td>\n",
       "      <td>20710-060</td>\n",
       "      <td>2021-04-25</td>\n",
       "      <td>2023-08-02</td>\n",
       "      <td>0</td>\n",
       "      <td>5</td>\n",
       "      <td>...</td>\n",
       "      <td>3.2</td>\n",
       "      <td>2.7</td>\n",
       "      <td>3.1</td>\n",
       "      <td>1</td>\n",
       "      <td>True</td>\n",
       "      <td>829 days</td>\n",
       "      <td>Questionário</td>\n",
       "      <td>2022-04-28 03:00:00</td>\n",
       "      <td>False</td>\n",
       "      <td>False</td>\n",
       "    </tr>\n",
       "    <tr>\n",
       "      <th>2</th>\n",
       "      <td>860</td>\n",
       "      <td>63</td>\n",
       "      <td>80</td>\n",
       "      <td>Paraná</td>\n",
       "      <td>Londrina</td>\n",
       "      <td>86020-410</td>\n",
       "      <td>2022-06-21</td>\n",
       "      <td>2023-09-20</td>\n",
       "      <td>239</td>\n",
       "      <td>3</td>\n",
       "      <td>...</td>\n",
       "      <td>3.0</td>\n",
       "      <td>4.0</td>\n",
       "      <td>4.0</td>\n",
       "      <td>1</td>\n",
       "      <td>True</td>\n",
       "      <td>456 days</td>\n",
       "      <td>Questionário</td>\n",
       "      <td>2022-06-27 15:03:30</td>\n",
       "      <td>True</td>\n",
       "      <td>False</td>\n",
       "    </tr>\n",
       "    <tr>\n",
       "      <th>3</th>\n",
       "      <td>961</td>\n",
       "      <td>63</td>\n",
       "      <td>80</td>\n",
       "      <td>Santa Catarina</td>\n",
       "      <td>Florianópolis</td>\n",
       "      <td>88080-080</td>\n",
       "      <td>2021-07-05</td>\n",
       "      <td>2021-10-01</td>\n",
       "      <td>0</td>\n",
       "      <td>1</td>\n",
       "      <td>...</td>\n",
       "      <td>3.0</td>\n",
       "      <td>3.0</td>\n",
       "      <td>3.0</td>\n",
       "      <td>0</td>\n",
       "      <td>False</td>\n",
       "      <td>87 days</td>\n",
       "      <td>Boas-vindas</td>\n",
       "      <td>2021-10-04 12:25:41</td>\n",
       "      <td>False</td>\n",
       "      <td>False</td>\n",
       "    </tr>\n",
       "    <tr>\n",
       "      <th>4</th>\n",
       "      <td>972</td>\n",
       "      <td>63</td>\n",
       "      <td>82</td>\n",
       "      <td>Minas Gerais</td>\n",
       "      <td>Uberlândia</td>\n",
       "      <td>38400-438</td>\n",
       "      <td>2021-06-28</td>\n",
       "      <td>2023-09-16</td>\n",
       "      <td>0</td>\n",
       "      <td>2</td>\n",
       "      <td>...</td>\n",
       "      <td>3.8</td>\n",
       "      <td>4.3</td>\n",
       "      <td>4.1</td>\n",
       "      <td>1</td>\n",
       "      <td>True</td>\n",
       "      <td>840 days</td>\n",
       "      <td>Questionário</td>\n",
       "      <td>2022-05-05 13:14:01</td>\n",
       "      <td>True</td>\n",
       "      <td>False</td>\n",
       "    </tr>\n",
       "  </tbody>\n",
       "</table>\n",
       "<p>5 rows × 52 columns</p>\n",
       "</div>"
      ],
      "text/plain": [
       "   PESSOA_PIPEDRIVE_id_person  PESSOA_PIPEDRIVE_id_gender  \\\n",
       "0                         483                          64   \n",
       "1                         654                          64   \n",
       "2                         860                          63   \n",
       "3                         961                          63   \n",
       "4                         972                          63   \n",
       "\n",
       "   PESSOA_PIPEDRIVE_id_marrital_status PESSOA_PIPEDRIVE_state  \\\n",
       "0                                   80           Minas Gerais   \n",
       "1                                   82         Rio de Janeiro   \n",
       "2                                   80                 Paraná   \n",
       "3                                   80         Santa Catarina   \n",
       "4                                   82           Minas Gerais   \n",
       "\n",
       "  PESSOA_PIPEDRIVE_city PESSOA_PIPEDRIVE_postal_code  \\\n",
       "0          Juiz de Fora                    36021-600   \n",
       "1        Rio de Janeiro                    20710-060   \n",
       "2              Londrina                    86020-410   \n",
       "3         Florianópolis                    88080-080   \n",
       "4            Uberlândia                    38400-438   \n",
       "\n",
       "  PESSOA_PIPEDRIVE_contract_start_date PESSOA_PIPEDRIVE_contract_end_date  \\\n",
       "0                           2021-01-27                         2023-08-26   \n",
       "1                           2021-04-25                         2023-08-02   \n",
       "2                           2022-06-21                         2023-09-20   \n",
       "3                           2021-07-05                         2021-10-01   \n",
       "4                           2021-06-28                         2023-09-16   \n",
       "\n",
       "   PESSOA_PIPEDRIVE_Canal de Preferência  PESSOA_PIPEDRIVE_notes_count  ...  \\\n",
       "0                                      0                             3  ...   \n",
       "1                                      0                             5  ...   \n",
       "2                                    239                             3  ...   \n",
       "3                                      0                             1  ...   \n",
       "4                                      0                             2  ...   \n",
       "\n",
       "   WHOQOL_Psicológico_New  WHOQOL_Social_New  WHOQOL_Ambiental_New  \\\n",
       "0                     4.0                4.0                   4.5   \n",
       "1                     3.2                2.7                   3.1   \n",
       "2                     3.0                4.0                   4.0   \n",
       "3                     3.0                3.0                   3.0   \n",
       "4                     3.8                4.3                   4.1   \n",
       "\n",
       "  COMUNICARE_Problemas Abertos Bool  \\\n",
       "0                                 0   \n",
       "1                                 1   \n",
       "2                                 1   \n",
       "3                                 0   \n",
       "4                                 1   \n",
       "\n",
       "  TWILIO_Data Última Mensagens Inbound Recente stay_time last_stage_concluded  \\\n",
       "0                                        False  211 days         Questionário   \n",
       "1                                         True  829 days         Questionário   \n",
       "2                                         True  456 days         Questionário   \n",
       "3                                        False   87 days          Boas-vindas   \n",
       "4                                         True  840 days         Questionário   \n",
       "\n",
       "          process_time TWILIO_Data Última Mensagens Outbound Recente  \\\n",
       "0  2022-04-19 15:19:40                                          True   \n",
       "1  2022-04-28 03:00:00                                         False   \n",
       "2  2022-06-27 15:03:30                                          True   \n",
       "3  2021-10-04 12:25:41                                         False   \n",
       "4  2022-05-05 13:14:01                                          True   \n",
       "\n",
       "  TWILIO_Data Última Ligações Outbound Recente  \n",
       "0                                         True  \n",
       "1                                        False  \n",
       "2                                        False  \n",
       "3                                        False  \n",
       "4                                        False  \n",
       "\n",
       "[5 rows x 52 columns]"
      ]
     },
     "execution_count": 2,
     "metadata": {},
     "output_type": "execute_result"
    }
   ],
   "source": [
    "import pandas as pd\n",
    "\n",
    "data = pd.read_csv(\"data/data-preprocessed.csv\")\n",
    "data.head()"
   ]
  },
  {
   "cell_type": "code",
   "execution_count": 3,
   "metadata": {},
   "outputs": [
    {
     "data": {
      "text/plain": [
       "52"
      ]
     },
     "execution_count": 3,
     "metadata": {},
     "output_type": "execute_result"
    }
   ],
   "source": [
    "data.shape[1]"
   ]
  },
  {
   "cell_type": "markdown",
   "metadata": {},
   "source": [
    "2. Retenção das linhas com status = lost"
   ]
  },
  {
   "cell_type": "code",
   "execution_count": 4,
   "metadata": {},
   "outputs": [
    {
     "name": "stdout",
     "output_type": "stream",
     "text": [
      "0      lost\n",
      "1      lost\n",
      "2      lost\n",
      "3      lost\n",
      "4      lost\n",
      "       ... \n",
      "896    lost\n",
      "898    lost\n",
      "900    lost\n",
      "905    lost\n",
      "918    lost\n",
      "Name: FUNIL_ASSINATURA_PIPEDRIVE_status, Length: 435, dtype: object\n"
     ]
    }
   ],
   "source": [
    "for indice, linha in data.iterrows():\n",
    "    if linha['FUNIL_ASSINATURA_PIPEDRIVE_status'] != 'lost':\n",
    "        data.drop(indice, inplace=True)\n",
    "\n",
    "print(data['FUNIL_ASSINATURA_PIPEDRIVE_status'])"
   ]
  },
  {
   "cell_type": "markdown",
   "metadata": {},
   "source": [
    "3. Separar x e y"
   ]
  },
  {
   "cell_type": "code",
   "execution_count": 5,
   "metadata": {},
   "outputs": [],
   "source": [
    "X = data.drop(columns=['stay_time'], axis=1)\n",
    "y = data['stay_time']"
   ]
  },
  {
   "cell_type": "markdown",
   "metadata": {},
   "source": [
    "4. Separar em grupos de treino e teste"
   ]
  },
  {
   "cell_type": "code",
   "execution_count": 6,
   "metadata": {},
   "outputs": [],
   "source": [
    "from sklearn.model_selection import train_test_split\n",
    "\n",
    "X_train, X_test, y_train, y_test = train_test_split(\n",
    "    X,\n",
    "    y,\n",
    "    test_size=0.25,\n",
    "    random_state=42,\n",
    ")"
   ]
  },
  {
   "cell_type": "markdown",
   "metadata": {},
   "source": [
    "5. Testar modelos de regressão (support vector machine, random forest, logistic regressor)"
   ]
  }
 ],
 "metadata": {
  "kernelspec": {
   "display_name": "Python 3",
   "language": "python",
   "name": "python3"
  },
  "language_info": {
   "codemirror_mode": {
    "name": "ipython",
    "version": 3
   },
   "file_extension": ".py",
   "mimetype": "text/x-python",
   "name": "python",
   "nbconvert_exporter": "python",
   "pygments_lexer": "ipython3",
   "version": "3.10.2"
  }
 },
 "nbformat": 4,
 "nbformat_minor": 2
}
