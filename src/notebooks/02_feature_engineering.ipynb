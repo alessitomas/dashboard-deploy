{
 "cells": [
  {
   "cell_type": "markdown",
   "metadata": {},
   "source": [
    "# Feature engineering\n",
    "\n",
    "Colunas FUNIL_ASSINATURA_PIPEDRIVE_status até ATENDIMENTOS_AGENDA_Datas Atendimento Médico"
   ]
  },
  {
   "cell_type": "code",
   "execution_count": 84,
   "metadata": {},
   "outputs": [],
   "source": [
    "import pandas as pd\n",
    "\n",
    "data = pd.read_csv(\"data/data-preprocessed.csv\")"
   ]
  },
  {
   "cell_type": "markdown",
   "metadata": {},
   "source": [
    "## FUNIL_ASSINATURA_PIPEDRIVE_status\n",
    "\n",
    "Transforma dados da coluna em one not encoding"
   ]
  },
  {
   "cell_type": "code",
   "execution_count": 85,
   "metadata": {},
   "outputs": [
    {
     "data": {
      "text/plain": [
       "won     550\n",
       "lost    435\n",
       "Name: FUNIL_ASSINATURA_PIPEDRIVE_status, dtype: int64"
      ]
     },
     "execution_count": 85,
     "metadata": {},
     "output_type": "execute_result"
    }
   ],
   "source": [
    "data['FUNIL_ASSINATURA_PIPEDRIVE_status'].value_counts()"
   ]
  },
  {
   "cell_type": "code",
   "execution_count": 86,
   "metadata": {},
   "outputs": [],
   "source": [
    "one_hot_encoded = pd.get_dummies(data['FUNIL_ASSINATURA_PIPEDRIVE_status'], prefix='status')\n",
    "data = pd.concat([data, one_hot_encoded], axis=1)"
   ]
  },
  {
   "cell_type": "markdown",
   "metadata": {},
   "source": [
    "## FUNIL_ASSINATURA_PIPEDRIVE_start_of_service"
   ]
  },
  {
   "cell_type": "markdown",
   "metadata": {},
   "source": [
    "Substitui valores nulos pela data de início do contrato e transforma o tipo em datetime"
   ]
  },
  {
   "cell_type": "code",
   "execution_count": 87,
   "metadata": {},
   "outputs": [
    {
     "data": {
      "text/plain": [
       "0      2023-01-27\n",
       "1             NaN\n",
       "2      2022-06-21\n",
       "3      2021-07-05\n",
       "4      2021-06-28\n",
       "          ...    \n",
       "980    2023-11-06\n",
       "981    2023-11-07\n",
       "982    2023-11-07\n",
       "983    2023-11-07\n",
       "984    2023-11-08\n",
       "Name: FUNIL_ASSINATURA_PIPEDRIVE_start_of_service, Length: 985, dtype: object"
      ]
     },
     "execution_count": 87,
     "metadata": {},
     "output_type": "execute_result"
    }
   ],
   "source": [
    "data['FUNIL_ASSINATURA_PIPEDRIVE_start_of_service']"
   ]
  },
  {
   "cell_type": "code",
   "execution_count": 88,
   "metadata": {},
   "outputs": [
    {
     "data": {
      "text/plain": [
       "0     2023-01-27\n",
       "1     2021-04-25\n",
       "2     2022-06-21\n",
       "3     2021-07-05\n",
       "4     2021-06-28\n",
       "         ...    \n",
       "980   2023-11-06\n",
       "981   2023-11-07\n",
       "982   2023-11-07\n",
       "983   2023-11-07\n",
       "984   2023-11-08\n",
       "Name: FUNIL_ASSINATURA_PIPEDRIVE_start_of_service, Length: 985, dtype: datetime64[ns]"
      ]
     },
     "execution_count": 88,
     "metadata": {},
     "output_type": "execute_result"
    }
   ],
   "source": [
    "data['FUNIL_ASSINATURA_PIPEDRIVE_start_of_service'] = pd.to_datetime(data['FUNIL_ASSINATURA_PIPEDRIVE_start_of_service'])\n",
    "\n",
    "\n",
    "for indice, valor in data['FUNIL_ASSINATURA_PIPEDRIVE_start_of_service'].items():\n",
    "    if pd.isnull(valor):\n",
    "        data.loc[indice, 'FUNIL_ASSINATURA_PIPEDRIVE_start_of_service'] = data.loc[indice, 'PESSOA_PIPEDRIVE_contract_start_date']\n",
    "        \n",
    "data['FUNIL_ASSINATURA_PIPEDRIVE_start_of_service']\n",
    "\n",
    "\n"
   ]
  },
  {
   "cell_type": "markdown",
   "metadata": {},
   "source": [
    "## FUNIL_ASSINATURA_PIPEDRIVE_lost_time"
   ]
  },
  {
   "cell_type": "markdown",
   "metadata": {},
   "source": [
    "Utilizada para fazer uma nova coluna em conjunto com outras"
   ]
  },
  {
   "cell_type": "code",
   "execution_count": 89,
   "metadata": {},
   "outputs": [
    {
     "data": {
      "text/plain": [
       "0      2023-08-26\n",
       "1      2023-08-02\n",
       "2      2023-09-20\n",
       "3      2021-09-30\n",
       "4      2023-10-16\n",
       "          ...    \n",
       "980     Em aberto\n",
       "981     Em aberto\n",
       "982     Em aberto\n",
       "983     Em aberto\n",
       "984     Em aberto\n",
       "Name: FUNIL_ASSINATURA_PIPEDRIVE_lost_time, Length: 985, dtype: object"
      ]
     },
     "execution_count": 89,
     "metadata": {},
     "output_type": "execute_result"
    }
   ],
   "source": [
    "data['FUNIL_ASSINATURA_PIPEDRIVE_lost_time']"
   ]
  },
  {
   "cell_type": "markdown",
   "metadata": {},
   "source": [
    "## Coluna extra: Tempo de permanência\n",
    "\n",
    "Coluna \"stay_time\" criada para calcular tempo total do usuário na plataforma. Utiliza lost_time - start_of_service ou lost_time - contract_start_date, se os dados de start_of_service forem nulos. "
   ]
  },
  {
   "cell_type": "markdown",
   "metadata": {},
   "source": [
    "## FUNIL_ASSINATURA_PIPEDRIVE_lost_reason"
   ]
  },
  {
   "cell_type": "markdown",
   "metadata": {},
   "source": [
    "Faz one hot encoding para motivos de cancelamento de assinatura"
   ]
  },
  {
   "cell_type": "code",
   "execution_count": null,
   "metadata": {},
   "outputs": [
    {
     "data": {
      "text/plain": [
       "Outro                                                         609\n",
       "[Assinatura] Desligamento                                     212\n",
       "[Assinatura] Empresa cancelou o benefício da Ana               53\n",
       "[Assinatura] Não quer seguir com a Ana                         52\n",
       "[Assinatura] Precisou cortar custos                            25\n",
       "[Assinatura] Cancelamento por inadimplência                    18\n",
       "[Assinatura] Está sem tempo para conciliar os atendimentos     16\n",
       "Name: FUNIL_ASSINATURA_PIPEDRIVE_lost_reason, dtype: int64"
      ]
     },
     "execution_count": 76,
     "metadata": {},
     "output_type": "execute_result"
    }
   ],
   "source": [
    "data['FUNIL_ASSINATURA_PIPEDRIVE_lost_reason'].value_counts()"
   ]
  },
  {
   "cell_type": "code",
   "execution_count": null,
   "metadata": {},
   "outputs": [
    {
     "data": {
      "text/html": [
       "<div>\n",
       "<style scoped>\n",
       "    .dataframe tbody tr th:only-of-type {\n",
       "        vertical-align: middle;\n",
       "    }\n",
       "\n",
       "    .dataframe tbody tr th {\n",
       "        vertical-align: top;\n",
       "    }\n",
       "\n",
       "    .dataframe thead th {\n",
       "        text-align: right;\n",
       "    }\n",
       "</style>\n",
       "<table border=\"1\" class=\"dataframe\">\n",
       "  <thead>\n",
       "    <tr style=\"text-align: right;\">\n",
       "      <th></th>\n",
       "      <th>PESSOA_PIPEDRIVE_id_person</th>\n",
       "      <th>PESSOA_PIPEDRIVE_id_gender</th>\n",
       "      <th>PESSOA_PIPEDRIVE_id_marrital_status</th>\n",
       "      <th>PESSOA_PIPEDRIVE_state</th>\n",
       "      <th>PESSOA_PIPEDRIVE_city</th>\n",
       "      <th>PESSOA_PIPEDRIVE_postal_code</th>\n",
       "      <th>PESSOA_PIPEDRIVE_contract_start_date</th>\n",
       "      <th>PESSOA_PIPEDRIVE_contract_end_date</th>\n",
       "      <th>PESSOA_PIPEDRIVE_Canal de Preferência</th>\n",
       "      <th>PESSOA_PIPEDRIVE_notes_count</th>\n",
       "      <th>...</th>\n",
       "      <th>lost_reason_[Assinatura] Está sem tempo para conciliar os atendimentos</th>\n",
       "      <th>lost_reason_[Assinatura] Não quer seguir com a Ana</th>\n",
       "      <th>lost_reason_[Assinatura] Precisou cortar custos</th>\n",
       "      <th>lost_reason_Outro</th>\n",
       "      <th>lost_reason_[Assinatura] Cancelamento por inadimplência</th>\n",
       "      <th>lost_reason_[Assinatura] Desligamento</th>\n",
       "      <th>lost_reason_[Assinatura] Empresa cancelou o benefício da Ana</th>\n",
       "      <th>lost_reason_[Assinatura] Está sem tempo para conciliar os atendimentos</th>\n",
       "      <th>lost_reason_[Assinatura] Não quer seguir com a Ana</th>\n",
       "      <th>lost_reason_[Assinatura] Precisou cortar custos</th>\n",
       "    </tr>\n",
       "  </thead>\n",
       "  <tbody>\n",
       "    <tr>\n",
       "      <th>0</th>\n",
       "      <td>483</td>\n",
       "      <td>64</td>\n",
       "      <td>80</td>\n",
       "      <td>Minas Gerais</td>\n",
       "      <td>Juiz de Fora</td>\n",
       "      <td>36021-600</td>\n",
       "      <td>2021-01-27</td>\n",
       "      <td>2023-08-26</td>\n",
       "      <td>0</td>\n",
       "      <td>3</td>\n",
       "      <td>...</td>\n",
       "      <td>0</td>\n",
       "      <td>1</td>\n",
       "      <td>0</td>\n",
       "      <td>0</td>\n",
       "      <td>0</td>\n",
       "      <td>0</td>\n",
       "      <td>0</td>\n",
       "      <td>0</td>\n",
       "      <td>1</td>\n",
       "      <td>0</td>\n",
       "    </tr>\n",
       "    <tr>\n",
       "      <th>1</th>\n",
       "      <td>654</td>\n",
       "      <td>64</td>\n",
       "      <td>82</td>\n",
       "      <td>Rio de Janeiro</td>\n",
       "      <td>Rio de Janeiro</td>\n",
       "      <td>20710-060</td>\n",
       "      <td>2021-04-25</td>\n",
       "      <td>2023-08-02</td>\n",
       "      <td>0</td>\n",
       "      <td>5</td>\n",
       "      <td>...</td>\n",
       "      <td>0</td>\n",
       "      <td>0</td>\n",
       "      <td>1</td>\n",
       "      <td>0</td>\n",
       "      <td>0</td>\n",
       "      <td>0</td>\n",
       "      <td>0</td>\n",
       "      <td>0</td>\n",
       "      <td>0</td>\n",
       "      <td>1</td>\n",
       "    </tr>\n",
       "    <tr>\n",
       "      <th>2</th>\n",
       "      <td>860</td>\n",
       "      <td>63</td>\n",
       "      <td>80</td>\n",
       "      <td>Paraná</td>\n",
       "      <td>Londrina</td>\n",
       "      <td>86020-410</td>\n",
       "      <td>2022-06-21</td>\n",
       "      <td>2023-09-20</td>\n",
       "      <td>239</td>\n",
       "      <td>3</td>\n",
       "      <td>...</td>\n",
       "      <td>0</td>\n",
       "      <td>0</td>\n",
       "      <td>0</td>\n",
       "      <td>1</td>\n",
       "      <td>0</td>\n",
       "      <td>0</td>\n",
       "      <td>0</td>\n",
       "      <td>0</td>\n",
       "      <td>0</td>\n",
       "      <td>0</td>\n",
       "    </tr>\n",
       "    <tr>\n",
       "      <th>3</th>\n",
       "      <td>961</td>\n",
       "      <td>63</td>\n",
       "      <td>80</td>\n",
       "      <td>Santa Catarina</td>\n",
       "      <td>Florianópolis</td>\n",
       "      <td>88080-080</td>\n",
       "      <td>2021-07-05</td>\n",
       "      <td>2021-10-01</td>\n",
       "      <td>0</td>\n",
       "      <td>1</td>\n",
       "      <td>...</td>\n",
       "      <td>0</td>\n",
       "      <td>0</td>\n",
       "      <td>0</td>\n",
       "      <td>0</td>\n",
       "      <td>0</td>\n",
       "      <td>0</td>\n",
       "      <td>1</td>\n",
       "      <td>0</td>\n",
       "      <td>0</td>\n",
       "      <td>0</td>\n",
       "    </tr>\n",
       "    <tr>\n",
       "      <th>4</th>\n",
       "      <td>972</td>\n",
       "      <td>63</td>\n",
       "      <td>82</td>\n",
       "      <td>Minas Gerais</td>\n",
       "      <td>Uberlândia</td>\n",
       "      <td>38400-438</td>\n",
       "      <td>2021-06-28</td>\n",
       "      <td>2023-09-16</td>\n",
       "      <td>0</td>\n",
       "      <td>2</td>\n",
       "      <td>...</td>\n",
       "      <td>0</td>\n",
       "      <td>0</td>\n",
       "      <td>0</td>\n",
       "      <td>1</td>\n",
       "      <td>0</td>\n",
       "      <td>0</td>\n",
       "      <td>0</td>\n",
       "      <td>0</td>\n",
       "      <td>0</td>\n",
       "      <td>0</td>\n",
       "    </tr>\n",
       "    <tr>\n",
       "      <th>...</th>\n",
       "      <td>...</td>\n",
       "      <td>...</td>\n",
       "      <td>...</td>\n",
       "      <td>...</td>\n",
       "      <td>...</td>\n",
       "      <td>...</td>\n",
       "      <td>...</td>\n",
       "      <td>...</td>\n",
       "      <td>...</td>\n",
       "      <td>...</td>\n",
       "      <td>...</td>\n",
       "      <td>...</td>\n",
       "      <td>...</td>\n",
       "      <td>...</td>\n",
       "      <td>...</td>\n",
       "      <td>...</td>\n",
       "      <td>...</td>\n",
       "      <td>...</td>\n",
       "      <td>...</td>\n",
       "      <td>...</td>\n",
       "      <td>...</td>\n",
       "    </tr>\n",
       "    <tr>\n",
       "      <th>980</th>\n",
       "      <td>5944</td>\n",
       "      <td>64</td>\n",
       "      <td>80</td>\n",
       "      <td>Paraíba</td>\n",
       "      <td>João Pessoa</td>\n",
       "      <td>58052-310</td>\n",
       "      <td>2023-11-06</td>\n",
       "      <td>NaN</td>\n",
       "      <td>239</td>\n",
       "      <td>0</td>\n",
       "      <td>...</td>\n",
       "      <td>0</td>\n",
       "      <td>0</td>\n",
       "      <td>0</td>\n",
       "      <td>1</td>\n",
       "      <td>0</td>\n",
       "      <td>0</td>\n",
       "      <td>0</td>\n",
       "      <td>0</td>\n",
       "      <td>0</td>\n",
       "      <td>0</td>\n",
       "    </tr>\n",
       "    <tr>\n",
       "      <th>981</th>\n",
       "      <td>5948</td>\n",
       "      <td>64</td>\n",
       "      <td>80</td>\n",
       "      <td>Bahia</td>\n",
       "      <td>Salvador</td>\n",
       "      <td>41830-120</td>\n",
       "      <td>2023-11-07</td>\n",
       "      <td>NaN</td>\n",
       "      <td>0</td>\n",
       "      <td>0</td>\n",
       "      <td>...</td>\n",
       "      <td>0</td>\n",
       "      <td>0</td>\n",
       "      <td>0</td>\n",
       "      <td>1</td>\n",
       "      <td>0</td>\n",
       "      <td>0</td>\n",
       "      <td>0</td>\n",
       "      <td>0</td>\n",
       "      <td>0</td>\n",
       "      <td>0</td>\n",
       "    </tr>\n",
       "    <tr>\n",
       "      <th>982</th>\n",
       "      <td>5949</td>\n",
       "      <td>64</td>\n",
       "      <td>80</td>\n",
       "      <td>São Paulo</td>\n",
       "      <td>São Paulo</td>\n",
       "      <td>05014-001</td>\n",
       "      <td>2023-11-07</td>\n",
       "      <td>NaN</td>\n",
       "      <td>239</td>\n",
       "      <td>0</td>\n",
       "      <td>...</td>\n",
       "      <td>0</td>\n",
       "      <td>0</td>\n",
       "      <td>0</td>\n",
       "      <td>1</td>\n",
       "      <td>0</td>\n",
       "      <td>0</td>\n",
       "      <td>0</td>\n",
       "      <td>0</td>\n",
       "      <td>0</td>\n",
       "      <td>0</td>\n",
       "    </tr>\n",
       "    <tr>\n",
       "      <th>983</th>\n",
       "      <td>5954</td>\n",
       "      <td>63</td>\n",
       "      <td>82</td>\n",
       "      <td>São Paulo</td>\n",
       "      <td>São Paulo</td>\n",
       "      <td>04513-100</td>\n",
       "      <td>2023-11-07</td>\n",
       "      <td>NaN</td>\n",
       "      <td>239</td>\n",
       "      <td>0</td>\n",
       "      <td>...</td>\n",
       "      <td>0</td>\n",
       "      <td>0</td>\n",
       "      <td>0</td>\n",
       "      <td>1</td>\n",
       "      <td>0</td>\n",
       "      <td>0</td>\n",
       "      <td>0</td>\n",
       "      <td>0</td>\n",
       "      <td>0</td>\n",
       "      <td>0</td>\n",
       "    </tr>\n",
       "    <tr>\n",
       "      <th>984</th>\n",
       "      <td>5956</td>\n",
       "      <td>63</td>\n",
       "      <td>82</td>\n",
       "      <td>Rio de Janeiro</td>\n",
       "      <td>Rio de Janeiro</td>\n",
       "      <td>22280-010</td>\n",
       "      <td>2023-11-08</td>\n",
       "      <td>NaN</td>\n",
       "      <td>0</td>\n",
       "      <td>0</td>\n",
       "      <td>...</td>\n",
       "      <td>0</td>\n",
       "      <td>0</td>\n",
       "      <td>0</td>\n",
       "      <td>1</td>\n",
       "      <td>0</td>\n",
       "      <td>0</td>\n",
       "      <td>0</td>\n",
       "      <td>0</td>\n",
       "      <td>0</td>\n",
       "      <td>0</td>\n",
       "    </tr>\n",
       "  </tbody>\n",
       "</table>\n",
       "<p>985 rows × 82 columns</p>\n",
       "</div>"
      ],
      "text/plain": [
       "     PESSOA_PIPEDRIVE_id_person  PESSOA_PIPEDRIVE_id_gender  \\\n",
       "0                           483                          64   \n",
       "1                           654                          64   \n",
       "2                           860                          63   \n",
       "3                           961                          63   \n",
       "4                           972                          63   \n",
       "..                          ...                         ...   \n",
       "980                        5944                          64   \n",
       "981                        5948                          64   \n",
       "982                        5949                          64   \n",
       "983                        5954                          63   \n",
       "984                        5956                          63   \n",
       "\n",
       "     PESSOA_PIPEDRIVE_id_marrital_status PESSOA_PIPEDRIVE_state  \\\n",
       "0                                     80           Minas Gerais   \n",
       "1                                     82         Rio de Janeiro   \n",
       "2                                     80                 Paraná   \n",
       "3                                     80         Santa Catarina   \n",
       "4                                     82           Minas Gerais   \n",
       "..                                   ...                    ...   \n",
       "980                                   80                Paraíba   \n",
       "981                                   80                  Bahia   \n",
       "982                                   80              São Paulo   \n",
       "983                                   82              São Paulo   \n",
       "984                                   82         Rio de Janeiro   \n",
       "\n",
       "    PESSOA_PIPEDRIVE_city PESSOA_PIPEDRIVE_postal_code  \\\n",
       "0            Juiz de Fora                    36021-600   \n",
       "1          Rio de Janeiro                    20710-060   \n",
       "2                Londrina                    86020-410   \n",
       "3           Florianópolis                    88080-080   \n",
       "4              Uberlândia                    38400-438   \n",
       "..                    ...                          ...   \n",
       "980           João Pessoa                    58052-310   \n",
       "981              Salvador                    41830-120   \n",
       "982             São Paulo                    05014-001   \n",
       "983             São Paulo                    04513-100   \n",
       "984        Rio de Janeiro                    22280-010   \n",
       "\n",
       "    PESSOA_PIPEDRIVE_contract_start_date PESSOA_PIPEDRIVE_contract_end_date  \\\n",
       "0                             2021-01-27                         2023-08-26   \n",
       "1                             2021-04-25                         2023-08-02   \n",
       "2                             2022-06-21                         2023-09-20   \n",
       "3                             2021-07-05                         2021-10-01   \n",
       "4                             2021-06-28                         2023-09-16   \n",
       "..                                   ...                                ...   \n",
       "980                           2023-11-06                                NaN   \n",
       "981                           2023-11-07                                NaN   \n",
       "982                           2023-11-07                                NaN   \n",
       "983                           2023-11-07                                NaN   \n",
       "984                           2023-11-08                                NaN   \n",
       "\n",
       "     PESSOA_PIPEDRIVE_Canal de Preferência  PESSOA_PIPEDRIVE_notes_count  ...  \\\n",
       "0                                        0                             3  ...   \n",
       "1                                        0                             5  ...   \n",
       "2                                      239                             3  ...   \n",
       "3                                        0                             1  ...   \n",
       "4                                        0                             2  ...   \n",
       "..                                     ...                           ...  ...   \n",
       "980                                    239                             0  ...   \n",
       "981                                      0                             0  ...   \n",
       "982                                    239                             0  ...   \n",
       "983                                    239                             0  ...   \n",
       "984                                      0                             0  ...   \n",
       "\n",
       "    lost_reason_[Assinatura] Está sem tempo para conciliar os atendimentos  \\\n",
       "0                                                    0                       \n",
       "1                                                    0                       \n",
       "2                                                    0                       \n",
       "3                                                    0                       \n",
       "4                                                    0                       \n",
       "..                                                 ...                       \n",
       "980                                                  0                       \n",
       "981                                                  0                       \n",
       "982                                                  0                       \n",
       "983                                                  0                       \n",
       "984                                                  0                       \n",
       "\n",
       "    lost_reason_[Assinatura] Não quer seguir com a Ana  \\\n",
       "0                                                    1   \n",
       "1                                                    0   \n",
       "2                                                    0   \n",
       "3                                                    0   \n",
       "4                                                    0   \n",
       "..                                                 ...   \n",
       "980                                                  0   \n",
       "981                                                  0   \n",
       "982                                                  0   \n",
       "983                                                  0   \n",
       "984                                                  0   \n",
       "\n",
       "    lost_reason_[Assinatura] Precisou cortar custos lost_reason_Outro  \\\n",
       "0                                                 0                 0   \n",
       "1                                                 1                 0   \n",
       "2                                                 0                 1   \n",
       "3                                                 0                 0   \n",
       "4                                                 0                 1   \n",
       "..                                              ...               ...   \n",
       "980                                               0                 1   \n",
       "981                                               0                 1   \n",
       "982                                               0                 1   \n",
       "983                                               0                 1   \n",
       "984                                               0                 1   \n",
       "\n",
       "    lost_reason_[Assinatura] Cancelamento por inadimplência  \\\n",
       "0                                                    0        \n",
       "1                                                    0        \n",
       "2                                                    0        \n",
       "3                                                    0        \n",
       "4                                                    0        \n",
       "..                                                 ...        \n",
       "980                                                  0        \n",
       "981                                                  0        \n",
       "982                                                  0        \n",
       "983                                                  0        \n",
       "984                                                  0        \n",
       "\n",
       "    lost_reason_[Assinatura] Desligamento  \\\n",
       "0                                       0   \n",
       "1                                       0   \n",
       "2                                       0   \n",
       "3                                       0   \n",
       "4                                       0   \n",
       "..                                    ...   \n",
       "980                                     0   \n",
       "981                                     0   \n",
       "982                                     0   \n",
       "983                                     0   \n",
       "984                                     0   \n",
       "\n",
       "    lost_reason_[Assinatura] Empresa cancelou o benefício da Ana  \\\n",
       "0                                                    0             \n",
       "1                                                    0             \n",
       "2                                                    0             \n",
       "3                                                    1             \n",
       "4                                                    0             \n",
       "..                                                 ...             \n",
       "980                                                  0             \n",
       "981                                                  0             \n",
       "982                                                  0             \n",
       "983                                                  0             \n",
       "984                                                  0             \n",
       "\n",
       "    lost_reason_[Assinatura] Está sem tempo para conciliar os atendimentos  \\\n",
       "0                                                    0                       \n",
       "1                                                    0                       \n",
       "2                                                    0                       \n",
       "3                                                    0                       \n",
       "4                                                    0                       \n",
       "..                                                 ...                       \n",
       "980                                                  0                       \n",
       "981                                                  0                       \n",
       "982                                                  0                       \n",
       "983                                                  0                       \n",
       "984                                                  0                       \n",
       "\n",
       "    lost_reason_[Assinatura] Não quer seguir com a Ana  \\\n",
       "0                                                    1   \n",
       "1                                                    0   \n",
       "2                                                    0   \n",
       "3                                                    0   \n",
       "4                                                    0   \n",
       "..                                                 ...   \n",
       "980                                                  0   \n",
       "981                                                  0   \n",
       "982                                                  0   \n",
       "983                                                  0   \n",
       "984                                                  0   \n",
       "\n",
       "    lost_reason_[Assinatura] Precisou cortar custos  \n",
       "0                                                 0  \n",
       "1                                                 1  \n",
       "2                                                 0  \n",
       "3                                                 0  \n",
       "4                                                 0  \n",
       "..                                              ...  \n",
       "980                                               0  \n",
       "981                                               0  \n",
       "982                                               0  \n",
       "983                                               0  \n",
       "984                                               0  \n",
       "\n",
       "[985 rows x 82 columns]"
      ]
     },
     "execution_count": 80,
     "metadata": {},
     "output_type": "execute_result"
    }
   ],
   "source": [
    "lost_reason_dummies = pd.get_dummies(data['FUNIL_ASSINATURA_PIPEDRIVE_lost_reason'], prefix='lost_reason')\n",
    "data = pd.concat([data, lost_reason_dummies], axis=1)\n"
   ]
  },
  {
   "cell_type": "markdown",
   "metadata": {},
   "source": [
    "## FUNIL_ONBOARDING_PIPEDRIVE_add_time\n",
    "\n",
    "Tudo certo por aqui, nada a acrescentar"
   ]
  },
  {
   "cell_type": "code",
   "execution_count": null,
   "metadata": {},
   "outputs": [
    {
     "data": {
      "text/plain": [
       "0      2021-09-16 18:15:11\n",
       "1      2021-09-16 18:18:23\n",
       "2      2022-06-21 23:48:22\n",
       "3      2021-09-16 18:28:04\n",
       "4      2021-09-16 18:04:29\n",
       "              ...         \n",
       "980    2023-11-06 18:34:05\n",
       "981    2023-11-07 12:22:13\n",
       "982    2023-11-07 13:05:44\n",
       "983    2023-11-07 20:34:02\n",
       "984    2023-11-08 19:03:40\n",
       "Name: FUNIL_ONBOARDING_PIPEDRIVE_add_time, Length: 985, dtype: object"
      ]
     },
     "execution_count": 81,
     "metadata": {},
     "output_type": "execute_result"
    }
   ],
   "source": [
    "data['FUNIL_ONBOARDING_PIPEDRIVE_add_time']"
   ]
  },
  {
   "cell_type": "markdown",
   "metadata": {},
   "source": [
    "## FUNIL_ONBOARDING_PIPEDRIVE_status\n",
    "\n",
    "One-hot encoding aplicado nessa coluna"
   ]
  },
  {
   "cell_type": "code",
   "execution_count": null,
   "metadata": {},
   "outputs": [
    {
     "data": {
      "text/plain": [
       "won             585\n",
       "lost            261\n",
       "open             99\n",
       "Não iniciado     40\n",
       "Name: FUNIL_ONBOARDING_PIPEDRIVE_status, dtype: int64"
      ]
     },
     "execution_count": 83,
     "metadata": {},
     "output_type": "execute_result"
    }
   ],
   "source": [
    "data['FUNIL_ONBOARDING_PIPEDRIVE_status'].value_counts()"
   ]
  },
  {
   "cell_type": "code",
   "execution_count": null,
   "metadata": {},
   "outputs": [],
   "source": [
    "data_status_encoded = pd.get_dummies(data['FUNIL_ONBOARDING_PIPEDRIVE_status'], prefix='Status')\n",
    "data = pd.concat([data, data_status_encoded], axis=1)"
   ]
  },
  {
   "cell_type": "markdown",
   "metadata": {},
   "source": [
    "## FUNIL_ONBOARDING_PIPEDRIVE_lost_reason\n",
    "\n",
    "One hot encoding aplicado na coluna"
   ]
  },
  {
   "cell_type": "code",
   "execution_count": 91,
   "metadata": {},
   "outputs": [
    {
     "data": {
      "text/plain": [
       "Outro                                                                757\n",
       "[Onboarding] Não retornou aos contatos de resgate                    198\n",
       "[Onboarding] Não tem interesse em seguir nas etapas do onboarding     18\n",
       "[Associade] Cancelou assinatura                                       12\n",
       "Name: FUNIL_ONBOARDING_PIPEDRIVE_lost_reason, dtype: int64"
      ]
     },
     "execution_count": 91,
     "metadata": {},
     "output_type": "execute_result"
    }
   ],
   "source": [
    "data['FUNIL_ONBOARDING_PIPEDRIVE_lost_reason'].value_counts()"
   ]
  },
  {
   "cell_type": "code",
   "execution_count": null,
   "metadata": {},
   "outputs": [],
   "source": [
    "lost_reason_dummies = pd.get_dummies(data['FUNIL_ONBOARDING_PIPEDRIVE_lost_reason'], prefix='lost_reason')\n",
    "data = pd.concat([data, lost_reason_dummies], axis=1)\n"
   ]
  },
  {
   "cell_type": "markdown",
   "metadata": {},
   "source": [
    "ATENDIMENTOS_AGENDA_Qde Todos Atendimentos\n",
    "\n",
    "ATENDIMENTOS_AGENDA_Faltas Todos Atendimento\n",
    "\n",
    "ATENDIMENTOS_AGENDA_Qde Atendimento Médico\n",
    "\n",
    "ATENDIMENTOS_AGENDA_Faltas Atendimento Médico\n",
    "\n",
    "ATENDIMENTOS_AGENDA_Datas Atendimento Médico"
   ]
  },
  {
   "cell_type": "markdown",
   "metadata": {},
   "source": [
    "## FUNIL_ONBOARDING_PIPEDRIVE_activities_count\n",
    "\n",
    "Tudo certo por aqui, nada a acrescentar"
   ]
  },
  {
   "cell_type": "code",
   "execution_count": 92,
   "metadata": {},
   "outputs": [
    {
     "data": {
      "text/plain": [
       "0      0\n",
       "1      2\n",
       "2      0\n",
       "3      0\n",
       "4      2\n",
       "      ..\n",
       "980    0\n",
       "981    0\n",
       "982    0\n",
       "983    0\n",
       "984    0\n",
       "Name: FUNIL_ONBOARDING_PIPEDRIVE_activities_count, Length: 985, dtype: int64"
      ]
     },
     "execution_count": 92,
     "metadata": {},
     "output_type": "execute_result"
    }
   ],
   "source": [
    "data['FUNIL_ONBOARDING_PIPEDRIVE_activities_count']"
   ]
  },
  {
   "cell_type": "markdown",
   "metadata": {},
   "source": [
    "## ATENDIMENTOS_AGENDA_Qde Todos Atendimentos\n",
    "\n",
    "Dados não fornecidos pela empresa"
   ]
  },
  {
   "cell_type": "code",
   "execution_count": 93,
   "metadata": {},
   "outputs": [
    {
     "data": {
      "text/plain": [
       "0      False\n",
       "1      False\n",
       "2      False\n",
       "3      False\n",
       "4      False\n",
       "       ...  \n",
       "980    False\n",
       "981    False\n",
       "982    False\n",
       "983    False\n",
       "984    False\n",
       "Name: ATENDIMENTOS_AGENDA_Qde Todos Atendimentos, Length: 985, dtype: bool"
      ]
     },
     "execution_count": 93,
     "metadata": {},
     "output_type": "execute_result"
    }
   ],
   "source": [
    "data['ATENDIMENTOS_AGENDA_Qde Todos Atendimentos']"
   ]
  }
 ],
 "metadata": {
  "kernelspec": {
   "display_name": "Python 3",
   "language": "python",
   "name": "python3"
  },
  "language_info": {
   "codemirror_mode": {
    "name": "ipython",
    "version": 3
   },
   "file_extension": ".py",
   "mimetype": "text/x-python",
   "name": "python",
   "nbconvert_exporter": "python",
   "pygments_lexer": "ipython3",
   "version": "3.10.2"
  }
 },
 "nbformat": 4,
 "nbformat_minor": 2
}
