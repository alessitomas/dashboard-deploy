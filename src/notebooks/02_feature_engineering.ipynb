{
 "cells": [
  {
   "cell_type": "markdown",
   "metadata": {},
   "source": [
    "# Feature engineering\n",
    "\n",
    "Colunas FUNIL_ASSINATURA_PIPEDRIVE_status até ATENDIMENTOS_AGENDA_Datas Atendimento Médico"
   ]
  },
  {
   "cell_type": "code",
   "execution_count": 166,
   "metadata": {},
   "outputs": [],
   "source": [
    "import pandas as pd\n",
    "\n",
    "data = pd.read_csv(\"data/data-preprocessed.csv\")"
   ]
  },
  {
   "cell_type": "markdown",
   "metadata": {},
   "source": [
    "## FUNIL_ASSINATURA_PIPEDRIVE_status\n",
    "\n",
    "Transforma dados da coluna em one not encoding"
   ]
  },
  {
   "cell_type": "code",
   "execution_count": 167,
   "metadata": {},
   "outputs": [
    {
     "data": {
      "text/plain": [
       "won     550\n",
       "lost    435\n",
       "Name: FUNIL_ASSINATURA_PIPEDRIVE_status, dtype: int64"
      ]
     },
     "execution_count": 167,
     "metadata": {},
     "output_type": "execute_result"
    }
   ],
   "source": [
    "data['FUNIL_ASSINATURA_PIPEDRIVE_status'].value_counts()"
   ]
  },
  {
   "cell_type": "code",
   "execution_count": 168,
   "metadata": {},
   "outputs": [],
   "source": [
    "one_hot_encoded = pd.get_dummies(data['FUNIL_ASSINATURA_PIPEDRIVE_status'], prefix='status')\n",
    "data = pd.concat([data, one_hot_encoded], axis=1)"
   ]
  },
  {
   "cell_type": "markdown",
   "metadata": {},
   "source": [
    "## FUNIL_ASSINATURA_PIPEDRIVE_start_of_service"
   ]
  },
  {
   "cell_type": "markdown",
   "metadata": {},
   "source": [
    "Substitui valores nulos pela data de início do contrato e transforma o tipo em datetime"
   ]
  },
  {
   "cell_type": "code",
   "execution_count": 169,
   "metadata": {},
   "outputs": [
    {
     "data": {
      "text/plain": [
       "0      2023-01-27\n",
       "1             NaN\n",
       "2      2022-06-21\n",
       "3      2021-07-05\n",
       "4      2021-06-28\n",
       "          ...    \n",
       "980    2023-11-06\n",
       "981    2023-11-07\n",
       "982    2023-11-07\n",
       "983    2023-11-07\n",
       "984    2023-11-08\n",
       "Name: FUNIL_ASSINATURA_PIPEDRIVE_start_of_service, Length: 985, dtype: object"
      ]
     },
     "execution_count": 169,
     "metadata": {},
     "output_type": "execute_result"
    }
   ],
   "source": [
    "data['FUNIL_ASSINATURA_PIPEDRIVE_start_of_service']"
   ]
  },
  {
   "cell_type": "code",
   "execution_count": 170,
   "metadata": {},
   "outputs": [
    {
     "data": {
      "text/plain": [
       "0     2023-01-27\n",
       "1     2021-04-25\n",
       "2     2022-06-21\n",
       "3     2021-07-05\n",
       "4     2021-06-28\n",
       "         ...    \n",
       "980   2023-11-06\n",
       "981   2023-11-07\n",
       "982   2023-11-07\n",
       "983   2023-11-07\n",
       "984   2023-11-08\n",
       "Name: FUNIL_ASSINATURA_PIPEDRIVE_start_of_service, Length: 985, dtype: datetime64[ns]"
      ]
     },
     "execution_count": 170,
     "metadata": {},
     "output_type": "execute_result"
    }
   ],
   "source": [
    "data['FUNIL_ASSINATURA_PIPEDRIVE_start_of_service'] = pd.to_datetime(data['FUNIL_ASSINATURA_PIPEDRIVE_start_of_service'])\n",
    "\n",
    "\n",
    "for indice, valor in data['FUNIL_ASSINATURA_PIPEDRIVE_start_of_service'].items():\n",
    "    if pd.isnull(valor):\n",
    "        data.loc[indice, 'FUNIL_ASSINATURA_PIPEDRIVE_start_of_service'] = data.loc[indice, 'PESSOA_PIPEDRIVE_contract_start_date']\n",
    "        \n",
    "data['FUNIL_ASSINATURA_PIPEDRIVE_start_of_service']\n",
    "\n",
    "\n"
   ]
  },
  {
   "cell_type": "markdown",
   "metadata": {},
   "source": [
    "## FUNIL_ASSINATURA_PIPEDRIVE_lost_time"
   ]
  },
  {
   "cell_type": "markdown",
   "metadata": {},
   "source": [
    "Utilizada para fazer uma nova coluna em conjunto com outras"
   ]
  },
  {
   "cell_type": "code",
   "execution_count": 171,
   "metadata": {},
   "outputs": [
    {
     "data": {
      "text/plain": [
       "0      2023-08-26\n",
       "1      2023-08-02\n",
       "2      2023-09-20\n",
       "3      2021-09-30\n",
       "4      2023-10-16\n",
       "          ...    \n",
       "980     Em aberto\n",
       "981     Em aberto\n",
       "982     Em aberto\n",
       "983     Em aberto\n",
       "984     Em aberto\n",
       "Name: FUNIL_ASSINATURA_PIPEDRIVE_lost_time, Length: 985, dtype: object"
      ]
     },
     "execution_count": 171,
     "metadata": {},
     "output_type": "execute_result"
    }
   ],
   "source": [
    "data['FUNIL_ASSINATURA_PIPEDRIVE_lost_time']"
   ]
  },
  {
   "cell_type": "markdown",
   "metadata": {},
   "source": [
    "## Coluna extra: Tempo de permanência\n",
    "\n",
    "Coluna \"stay_time\" criada para calcular tempo total do usuário na plataforma. Utiliza lost_time - start_of_service ou lost_time - contract_start_date, se os dados de start_of_service forem nulos. "
   ]
  },
  {
   "cell_type": "markdown",
   "metadata": {},
   "source": [
    "## FUNIL_ASSINATURA_PIPEDRIVE_lost_reason"
   ]
  },
  {
   "cell_type": "markdown",
   "metadata": {},
   "source": [
    "Faz one hot encoding para motivos de cancelamento de assinatura"
   ]
  },
  {
   "cell_type": "code",
   "execution_count": 172,
   "metadata": {},
   "outputs": [
    {
     "data": {
      "text/plain": [
       "Outro                                                         609\n",
       "[Assinatura] Desligamento                                     212\n",
       "[Assinatura] Empresa cancelou o benefício da Ana               53\n",
       "[Assinatura] Não quer seguir com a Ana                         52\n",
       "[Assinatura] Precisou cortar custos                            25\n",
       "[Assinatura] Cancelamento por inadimplência                    18\n",
       "[Assinatura] Está sem tempo para conciliar os atendimentos     16\n",
       "Name: FUNIL_ASSINATURA_PIPEDRIVE_lost_reason, dtype: int64"
      ]
     },
     "execution_count": 172,
     "metadata": {},
     "output_type": "execute_result"
    }
   ],
   "source": [
    "data['FUNIL_ASSINATURA_PIPEDRIVE_lost_reason'].value_counts()"
   ]
  },
  {
   "cell_type": "code",
   "execution_count": 173,
   "metadata": {},
   "outputs": [],
   "source": [
    "lost_reason_dummies = pd.get_dummies(data['FUNIL_ASSINATURA_PIPEDRIVE_lost_reason'], prefix='lost_reason')\n",
    "data = pd.concat([data, lost_reason_dummies], axis=1)\n"
   ]
  },
  {
   "cell_type": "markdown",
   "metadata": {},
   "source": [
    "## FUNIL_ONBOARDING_PIPEDRIVE_add_time\n",
    "\n",
    "Tudo certo por aqui, nada a acrescentar"
   ]
  },
  {
   "cell_type": "code",
   "execution_count": 174,
   "metadata": {},
   "outputs": [
    {
     "data": {
      "text/plain": [
       "0      2021-09-16 18:15:11\n",
       "1      2021-09-16 18:18:23\n",
       "2      2022-06-21 23:48:22\n",
       "3      2021-09-16 18:28:04\n",
       "4      2021-09-16 18:04:29\n",
       "              ...         \n",
       "980    2023-11-06 18:34:05\n",
       "981    2023-11-07 12:22:13\n",
       "982    2023-11-07 13:05:44\n",
       "983    2023-11-07 20:34:02\n",
       "984    2023-11-08 19:03:40\n",
       "Name: FUNIL_ONBOARDING_PIPEDRIVE_add_time, Length: 985, dtype: object"
      ]
     },
     "execution_count": 174,
     "metadata": {},
     "output_type": "execute_result"
    }
   ],
   "source": [
    "data['FUNIL_ONBOARDING_PIPEDRIVE_add_time']"
   ]
  },
  {
   "cell_type": "markdown",
   "metadata": {},
   "source": [
    "## FUNIL_ONBOARDING_PIPEDRIVE_status\n",
    "\n",
    "One-hot encoding aplicado nessa coluna"
   ]
  },
  {
   "cell_type": "code",
   "execution_count": 175,
   "metadata": {},
   "outputs": [
    {
     "data": {
      "text/plain": [
       "won             585\n",
       "lost            261\n",
       "open             99\n",
       "Não iniciado     40\n",
       "Name: FUNIL_ONBOARDING_PIPEDRIVE_status, dtype: int64"
      ]
     },
     "execution_count": 175,
     "metadata": {},
     "output_type": "execute_result"
    }
   ],
   "source": [
    "data['FUNIL_ONBOARDING_PIPEDRIVE_status'].value_counts()"
   ]
  },
  {
   "cell_type": "code",
   "execution_count": 176,
   "metadata": {},
   "outputs": [],
   "source": [
    "data_status_encoded = pd.get_dummies(data['FUNIL_ONBOARDING_PIPEDRIVE_status'], prefix='Status')\n",
    "data = pd.concat([data, data_status_encoded], axis=1)"
   ]
  },
  {
   "cell_type": "markdown",
   "metadata": {},
   "source": [
    "## FUNIL_ONBOARDING_PIPEDRIVE_lost_reason\n",
    "\n",
    "One hot encoding aplicado na coluna"
   ]
  },
  {
   "cell_type": "code",
   "execution_count": 177,
   "metadata": {},
   "outputs": [
    {
     "data": {
      "text/plain": [
       "Outro                                                                757\n",
       "[Onboarding] Não retornou aos contatos de resgate                    198\n",
       "[Onboarding] Não tem interesse em seguir nas etapas do onboarding     18\n",
       "[Associade] Cancelou assinatura                                       12\n",
       "Name: FUNIL_ONBOARDING_PIPEDRIVE_lost_reason, dtype: int64"
      ]
     },
     "execution_count": 177,
     "metadata": {},
     "output_type": "execute_result"
    }
   ],
   "source": [
    "data['FUNIL_ONBOARDING_PIPEDRIVE_lost_reason'].value_counts()"
   ]
  },
  {
   "cell_type": "code",
   "execution_count": 178,
   "metadata": {},
   "outputs": [],
   "source": [
    "lost_reason_dummies = pd.get_dummies(data['FUNIL_ONBOARDING_PIPEDRIVE_lost_reason'], prefix='lost_reason')\n",
    "data = pd.concat([data, lost_reason_dummies], axis=1)\n"
   ]
  },
  {
   "cell_type": "markdown",
   "metadata": {},
   "source": [
    "## FUNIL_ONBOARDING_PIPEDRIVE_activities_count\n",
    "\n",
    "Tudo certo por aqui, nada a acrescentar"
   ]
  },
  {
   "cell_type": "code",
   "execution_count": 179,
   "metadata": {},
   "outputs": [
    {
     "data": {
      "text/plain": [
       "0      0\n",
       "1      2\n",
       "2      0\n",
       "3      0\n",
       "4      2\n",
       "      ..\n",
       "980    0\n",
       "981    0\n",
       "982    0\n",
       "983    0\n",
       "984    0\n",
       "Name: FUNIL_ONBOARDING_PIPEDRIVE_activities_count, Length: 985, dtype: int64"
      ]
     },
     "execution_count": 179,
     "metadata": {},
     "output_type": "execute_result"
    }
   ],
   "source": [
    "data['FUNIL_ONBOARDING_PIPEDRIVE_activities_count']"
   ]
  },
  {
   "cell_type": "markdown",
   "metadata": {},
   "source": [
    "## ATENDIMENTOS_AGENDA_Qde Todos Atendimentos\n",
    "\n",
    "Dados não fornecidos pela empresa, coluna será dropada"
   ]
  },
  {
   "cell_type": "code",
   "execution_count": 180,
   "metadata": {},
   "outputs": [
    {
     "data": {
      "text/plain": [
       "0      False\n",
       "1      False\n",
       "2      False\n",
       "3      False\n",
       "4      False\n",
       "       ...  \n",
       "980    False\n",
       "981    False\n",
       "982    False\n",
       "983    False\n",
       "984    False\n",
       "Name: ATENDIMENTOS_AGENDA_Qde Todos Atendimentos, Length: 985, dtype: bool"
      ]
     },
     "execution_count": 180,
     "metadata": {},
     "output_type": "execute_result"
    }
   ],
   "source": [
    "data['ATENDIMENTOS_AGENDA_Qde Todos Atendimentos']"
   ]
  },
  {
   "cell_type": "code",
   "execution_count": 181,
   "metadata": {},
   "outputs": [],
   "source": [
    "data.drop('ATENDIMENTOS_AGENDA_Qde Todos Atendimentos', axis='columns', inplace=True)"
   ]
  },
  {
   "cell_type": "markdown",
   "metadata": {},
   "source": [
    "## ATENDIMENTOS_AGENDA_Qde Atendimento Médico\n",
    "\n",
    "Tudo certo por aqui, nada a acrescentar\n"
   ]
  },
  {
   "cell_type": "code",
   "execution_count": 182,
   "metadata": {},
   "outputs": [
    {
     "data": {
      "text/plain": [
       "0      0\n",
       "1      1\n",
       "2      1\n",
       "3      0\n",
       "4      0\n",
       "      ..\n",
       "980    0\n",
       "981    0\n",
       "982    0\n",
       "983    0\n",
       "984    0\n",
       "Name: ATENDIMENTOS_AGENDA_Qde Atendimento Médico, Length: 985, dtype: int64"
      ]
     },
     "execution_count": 182,
     "metadata": {},
     "output_type": "execute_result"
    }
   ],
   "source": [
    "data['ATENDIMENTOS_AGENDA_Qde Atendimento Médico']"
   ]
  },
  {
   "cell_type": "markdown",
   "metadata": {},
   "source": [
    "## ATENDIMENTOS_AGENDA_Faltas Atendimento Médico\n",
    "\n",
    "Tudo certo por aqui, nada a acrescentar"
   ]
  },
  {
   "cell_type": "code",
   "execution_count": 183,
   "metadata": {},
   "outputs": [
    {
     "data": {
      "text/plain": [
       "0      0\n",
       "1      0\n",
       "2      0\n",
       "3      0\n",
       "4      0\n",
       "      ..\n",
       "980    0\n",
       "981    0\n",
       "982    0\n",
       "983    0\n",
       "984    0\n",
       "Name: ATENDIMENTOS_AGENDA_Faltas Atendimento Médico, Length: 985, dtype: int64"
      ]
     },
     "execution_count": 183,
     "metadata": {},
     "output_type": "execute_result"
    }
   ],
   "source": [
    "data['ATENDIMENTOS_AGENDA_Faltas Atendimento Médico']\n"
   ]
  },
  {
   "cell_type": "markdown",
   "metadata": {},
   "source": [
    "## ATENDIMENTOS_AGENDA_Datas Atendimento Médico\n",
    "\n",
    "Tudo certo por aqui, nada a acrescentar"
   ]
  },
  {
   "cell_type": "code",
   "execution_count": 184,
   "metadata": {},
   "outputs": [
    {
     "data": {
      "text/plain": [
       "0            Nunca ocorreu\n",
       "1      2022-08-10 19:00:00\n",
       "2      2023-01-12 17:00:00\n",
       "3            Nunca ocorreu\n",
       "4            Nunca ocorreu\n",
       "              ...         \n",
       "980          Nunca ocorreu\n",
       "981          Nunca ocorreu\n",
       "982          Nunca ocorreu\n",
       "983          Nunca ocorreu\n",
       "984          Nunca ocorreu\n",
       "Name: ATENDIMENTOS_AGENDA_Datas Atendimento Médico, Length: 985, dtype: object"
      ]
     },
     "execution_count": 184,
     "metadata": {},
     "output_type": "execute_result"
    }
   ],
   "source": [
    "data['ATENDIMENTOS_AGENDA_Datas Atendimento Médico']"
   ]
  }
 ],
 "metadata": {
  "kernelspec": {
   "display_name": "Python 3",
   "language": "python",
   "name": "python3"
  },
  "language_info": {
   "codemirror_mode": {
    "name": "ipython",
    "version": 3
   },
   "file_extension": ".py",
   "mimetype": "text/x-python",
   "name": "python",
   "nbconvert_exporter": "python",
   "pygments_lexer": "ipython3",
   "version": "3.10.2"
  }
 },
 "nbformat": 4,
 "nbformat_minor": 2
}
