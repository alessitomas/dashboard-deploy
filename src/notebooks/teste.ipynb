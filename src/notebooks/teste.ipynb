{
 "cells": [
  {
   "cell_type": "code",
   "execution_count": 4,
   "metadata": {},
   "outputs": [],
   "source": [
    "import pandas as pd\n",
    "import joblib\n",
    "import os \n",
    "import sys\n",
    "\n",
    "\n",
    "\n",
    "\n",
    "model = joblib.load('./data/SVR_model.joblib')"
   ]
  },
  {
   "cell_type": "code",
   "execution_count": 38,
   "metadata": {},
   "outputs": [
    {
     "ename": "ImportError",
     "evalue": "attempted relative import with no known parent package",
     "output_type": "error",
     "traceback": [
      "\u001b[0;31m---------------------------------------------------------------------------\u001b[0m",
      "\u001b[0;31mImportError\u001b[0m                               Traceback (most recent call last)",
      "\u001b[1;32m/Users/st4pzz/Desktop/insper_2023.2/SPRINT/sprint4-support-vector-team/src/notebooks/teste.ipynb Célula 2\u001b[0m line \u001b[0;36m2\n\u001b[1;32m      <a href='vscode-notebook-cell:/Users/st4pzz/Desktop/insper_2023.2/SPRINT/sprint4-support-vector-team/src/notebooks/teste.ipynb#W1sZmlsZQ%3D%3D?line=0'>1</a>\u001b[0m df \u001b[39m=\u001b[39m pd\u001b[39m.\u001b[39mread_csv(\u001b[39m\"\u001b[39m\u001b[39m./data/Ana Health_Tabela Modelo Previsão Churn - Tabela.csv\u001b[39m\u001b[39m\"\u001b[39m)\n\u001b[0;32m----> <a href='vscode-notebook-cell:/Users/st4pzz/Desktop/insper_2023.2/SPRINT/sprint4-support-vector-team/src/notebooks/teste.ipynb#W1sZmlsZQ%3D%3D?line=1'>2</a>\u001b[0m \u001b[39mfrom\u001b[39;00m \u001b[39m.\u001b[39;00m\u001b[39m.\u001b[39;00m\u001b[39m.\u001b[39;00m\u001b[39msrc\u001b[39;00m\u001b[39m.\u001b[39;00m\u001b[39mscripts\u001b[39;00m\u001b[39m.\u001b[39;00m\u001b[39mdata_preprocessing\u001b[39;00m \u001b[39mimport\u001b[39;00m preprocessing\n\u001b[1;32m      <a href='vscode-notebook-cell:/Users/st4pzz/Desktop/insper_2023.2/SPRINT/sprint4-support-vector-team/src/notebooks/teste.ipynb#W1sZmlsZQ%3D%3D?line=4'>5</a>\u001b[0m data_json \u001b[39m=\u001b[39m df\u001b[39m.\u001b[39miloc[\u001b[39m50\u001b[39m]\u001b[39m.\u001b[39mto_json()\n",
      "\u001b[0;31mImportError\u001b[0m: attempted relative import with no known parent package"
     ]
    }
   ],
   "source": [
    "df = pd.read_csv(\"./data/Ana Health_Tabela Modelo Previsão Churn - Tabela.csv\")\n",
    "from ...src.scripts.data_preprocessing import preprocessing\n",
    "\n",
    "\n",
    "data_json = df.iloc[50].to_json()\n",
    "\n",
    "\n"
   ]
  },
  {
   "cell_type": "code",
   "execution_count": 32,
   "metadata": {},
   "outputs": [],
   "source": [
    "data_df = pd.DataFrame([data_json])"
   ]
  },
  {
   "cell_type": "code",
   "execution_count": 25,
   "metadata": {},
   "outputs": [
    {
     "name": "stdout",
     "output_type": "stream",
     "text": [
      "[155.31000948]\n"
     ]
    },
    {
     "name": "stderr",
     "output_type": "stream",
     "text": [
      "/Users/st4pzz/Desktop/insper_2023.2/SPRINT/sprint4-support-vector-team/env/lib/python3.9/site-packages/sklearn/base.py:465: UserWarning: X does not have valid feature names, but SVR was fitted with feature names\n",
      "  warnings.warn(\n"
     ]
    }
   ],
   "source": [
    "previsao = model.predict(DADOS.values.reshape(1, -1))\n",
    "\n",
    "print(previsao)\n"
   ]
  }
 ],
 "metadata": {
  "kernelspec": {
   "display_name": "env",
   "language": "python",
   "name": "python3"
  },
  "language_info": {
   "codemirror_mode": {
    "name": "ipython",
    "version": 3
   },
   "file_extension": ".py",
   "mimetype": "text/x-python",
   "name": "python",
   "nbconvert_exporter": "python",
   "pygments_lexer": "ipython3",
   "version": "3.9.10"
  }
 },
 "nbformat": 4,
 "nbformat_minor": 2
}
