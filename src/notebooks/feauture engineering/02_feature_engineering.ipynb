{
 "cells": [
  {
   "cell_type": "markdown",
   "metadata": {},
   "source": [
    "# Feature engineering\n",
    "\n",
    "Colunas FUNIL_ASSINATURA_PIPEDRIVE_status até ATENDIMENTOS_AGENDA_Datas Atendimento Médico"
   ]
  },
  {
   "cell_type": "code",
   "execution_count": 5,
   "metadata": {},
   "outputs": [],
   "source": [
    "import pandas as pd\n",
    "\n",
    "data = pd.read_csv(\"../data/data-preprocessed.csv\")"
   ]
  },
  {
   "cell_type": "markdown",
   "metadata": {},
   "source": [
    "## FUNIL_ASSINATURA_PIPEDRIVE_status\n",
    "\n",
    "Transforma dados da coluna em one not encoding"
   ]
  },
  {
   "cell_type": "code",
   "execution_count": 6,
   "metadata": {},
   "outputs": [
    {
     "data": {
      "text/plain": [
       "won     544\n",
       "lost    428\n",
       "Name: FUNIL_ASSINATURA_PIPEDRIVE_status, dtype: int64"
      ]
     },
     "execution_count": 6,
     "metadata": {},
     "output_type": "execute_result"
    }
   ],
   "source": [
    "data['FUNIL_ASSINATURA_PIPEDRIVE_status'].value_counts()"
   ]
  },
  {
   "cell_type": "code",
   "execution_count": 7,
   "metadata": {},
   "outputs": [
    {
     "name": "stdout",
     "output_type": "stream",
     "text": [
      "     PESSOA_PIPEDRIVE_id_person  PESSOA_PIPEDRIVE_id_gender  \\\n",
      "0                           483                          64   \n",
      "1                           860                          63   \n",
      "2                           961                          63   \n",
      "3                           972                          63   \n",
      "4                           973                          64   \n",
      "..                          ...                         ...   \n",
      "967                        5944                          64   \n",
      "968                        5948                          64   \n",
      "969                        5949                          64   \n",
      "970                        5954                          63   \n",
      "971                        5956                          63   \n",
      "\n",
      "     PESSOA_PIPEDRIVE_id_marrital_status PESSOA_PIPEDRIVE_state  \\\n",
      "0                                     80           Minas Gerais   \n",
      "1                                     80                 Paraná   \n",
      "2                                     80         Santa Catarina   \n",
      "3                                     82           Minas Gerais   \n",
      "4                                     80           Minas Gerais   \n",
      "..                                   ...                    ...   \n",
      "967                                   80                Paraíba   \n",
      "968                                   80                  Bahia   \n",
      "969                                   80              São Paulo   \n",
      "970                                   82              São Paulo   \n",
      "971                                   82         Rio de Janeiro   \n",
      "\n",
      "    PESSOA_PIPEDRIVE_city PESSOA_PIPEDRIVE_postal_code  \\\n",
      "0            Juiz de Fora                    36021-600   \n",
      "1                Londrina                    86020-410   \n",
      "2           Florianópolis                    88080-080   \n",
      "3              Uberlândia                    38400-438   \n",
      "4              Uberlândia                    38405-364   \n",
      "..                    ...                          ...   \n",
      "967           João Pessoa                    58052-310   \n",
      "968              Salvador                    41830-120   \n",
      "969             São Paulo                    05014-001   \n",
      "970             São Paulo                    04513-100   \n",
      "971        Rio de Janeiro                    22280-010   \n",
      "\n",
      "    PESSOA_PIPEDRIVE_contract_start_date PESSOA_PIPEDRIVE_contract_end_date  \\\n",
      "0                             2021-01-27                         2023-08-26   \n",
      "1                             2022-06-21                         2023-09-20   \n",
      "2                             2021-07-05                         2021-10-01   \n",
      "3                             2021-06-28                         2023-09-16   \n",
      "4                             2021-06-28                         2022-02-07   \n",
      "..                                   ...                                ...   \n",
      "967                           2023-11-06                                NaN   \n",
      "968                           2023-11-07                                NaN   \n",
      "969                           2023-11-07                                NaN   \n",
      "970                           2023-11-07                                NaN   \n",
      "971                           2023-11-08                                NaN   \n",
      "\n",
      "     PESSOA_PIPEDRIVE_Canal de Preferência  PESSOA_PIPEDRIVE_notes_count  ...  \\\n",
      "0                                        0                             3  ...   \n",
      "1                                      239                             3  ...   \n",
      "2                                        0                             1  ...   \n",
      "3                                        0                             2  ...   \n",
      "4                                        0                             1  ...   \n",
      "..                                     ...                           ...  ...   \n",
      "967                                    239                             0  ...   \n",
      "968                                      0                             0  ...   \n",
      "969                                    239                             0  ...   \n",
      "970                                    239                             0  ...   \n",
      "971                                      0                             0  ...   \n",
      "\n",
      "     WHOQOL_Ambiental_New  COMUNICARE_Problemas Abertos Bool  \\\n",
      "0                     4.5                                  0   \n",
      "1                     4.0                                  1   \n",
      "2                     3.0                                  0   \n",
      "3                     4.1                                  1   \n",
      "4                     3.9                                  0   \n",
      "..                    ...                                ...   \n",
      "967                   3.9                                  0   \n",
      "968                   3.0                                  1   \n",
      "969                   3.9                                  0   \n",
      "970                   4.0                                  0   \n",
      "971                   3.9                                  0   \n",
      "\n",
      "     TWILIO_Data Última Mensagens Inbound Recente  stay_time  \\\n",
      "0                                           False   211 days   \n",
      "1                                            True   456 days   \n",
      "2                                           False    87 days   \n",
      "3                                            True   840 days   \n",
      "4                                           False   224 days   \n",
      "..                                            ...        ...   \n",
      "967                                         False  Em aberto   \n",
      "968                                         False  Em aberto   \n",
      "969                                         False  Em aberto   \n",
      "970                                         False  Em aberto   \n",
      "971                                         False  Em aberto   \n",
      "\n",
      "    last_stage_concluded         process_time  \\\n",
      "0           Questionário  2022-04-19 15:19:40   \n",
      "1           Questionário  2022-06-27 15:03:30   \n",
      "2            Boas-vindas  2021-10-04 12:25:41   \n",
      "3           Questionário  2022-05-05 13:14:01   \n",
      "4           Questionário  2022-02-07 03:00:00   \n",
      "..                   ...                  ...   \n",
      "967          Boas-vindas            Em aberto   \n",
      "968     Primeira reunião            Em aberto   \n",
      "969          Boas-vindas            Em aberto   \n",
      "970          Boas-vindas            Em aberto   \n",
      "971          Boas-vindas            Em aberto   \n",
      "\n",
      "    TWILIO_Data Última Mensagens Outbound Recente  \\\n",
      "0                                            True   \n",
      "1                                            True   \n",
      "2                                           False   \n",
      "3                                            True   \n",
      "4                                           False   \n",
      "..                                            ...   \n",
      "967                                         False   \n",
      "968                                         False   \n",
      "969                                         False   \n",
      "970                                         False   \n",
      "971                                         False   \n",
      "\n",
      "    TWILIO_Data Última Ligações Outbound Recente status_lost status_won  \n",
      "0                                           True           1          0  \n",
      "1                                          False           1          0  \n",
      "2                                          False           1          0  \n",
      "3                                          False           1          0  \n",
      "4                                          False           1          0  \n",
      "..                                           ...         ...        ...  \n",
      "967                                        False           0          1  \n",
      "968                                        False           0          1  \n",
      "969                                        False           0          1  \n",
      "970                                        False           0          1  \n",
      "971                                        False           0          1  \n",
      "\n",
      "[972 rows x 53 columns]\n"
     ]
    }
   ],
   "source": [
    "#one_hot_encoded = pd.get_dummies(data['FUNIL_ASSINATURA_PIPEDRIVE_status'], prefix='status')\n",
    "#data = pd.concat([data, one_hot_encoded], axis=1)\n",
    "#print(data)"
   ]
  },
  {
   "cell_type": "markdown",
   "metadata": {},
   "source": [
    "## FUNIL_ASSINATURA_PIPEDRIVE_start_of_service"
   ]
  },
  {
   "cell_type": "markdown",
   "metadata": {},
   "source": [
    "Substitui valores nulos pela data de início do contrato e transforma o tipo em datetime"
   ]
  },
  {
   "cell_type": "code",
   "execution_count": 8,
   "metadata": {},
   "outputs": [
    {
     "data": {
      "text/plain": [
       "0      2023-01-27\n",
       "1      2022-06-21\n",
       "2      2021-07-05\n",
       "3      2021-06-28\n",
       "4      2021-06-28\n",
       "          ...    \n",
       "967    2023-11-06\n",
       "968    2023-11-07\n",
       "969    2023-11-07\n",
       "970    2023-11-07\n",
       "971    2023-11-08\n",
       "Name: FUNIL_ASSINATURA_PIPEDRIVE_start_of_service, Length: 972, dtype: object"
      ]
     },
     "execution_count": 8,
     "metadata": {},
     "output_type": "execute_result"
    }
   ],
   "source": [
    "data['FUNIL_ASSINATURA_PIPEDRIVE_start_of_service']"
   ]
  },
  {
   "cell_type": "code",
   "execution_count": 9,
   "metadata": {},
   "outputs": [
    {
     "data": {
      "text/plain": [
       "0     2023-01-27\n",
       "1     2022-06-21\n",
       "2     2021-07-05\n",
       "3     2021-06-28\n",
       "4     2021-06-28\n",
       "         ...    \n",
       "967   2023-11-06\n",
       "968   2023-11-07\n",
       "969   2023-11-07\n",
       "970   2023-11-07\n",
       "971   2023-11-08\n",
       "Name: FUNIL_ASSINATURA_PIPEDRIVE_start_of_service, Length: 972, dtype: datetime64[ns]"
      ]
     },
     "execution_count": 9,
     "metadata": {},
     "output_type": "execute_result"
    }
   ],
   "source": [
    "data['FUNIL_ASSINATURA_PIPEDRIVE_start_of_service'] = pd.to_datetime(data['FUNIL_ASSINATURA_PIPEDRIVE_start_of_service'])\n",
    "\n",
    "\n",
    "for indice, valor in data['FUNIL_ASSINATURA_PIPEDRIVE_start_of_service'].items():\n",
    "    if pd.isnull(valor):\n",
    "        data.loc[indice, 'FUNIL_ASSINATURA_PIPEDRIVE_start_of_service'] = data.loc[indice, 'PESSOA_PIPEDRIVE_contract_start_date']\n",
    "        \n",
    "data['FUNIL_ASSINATURA_PIPEDRIVE_start_of_service']\n",
    "\n",
    "\n"
   ]
  },
  {
   "cell_type": "markdown",
   "metadata": {},
   "source": [
    "## FUNIL_ASSINATURA_PIPEDRIVE_lost_time"
   ]
  },
  {
   "cell_type": "markdown",
   "metadata": {},
   "source": [
    "Utilizada para fazer uma nova coluna em conjunto com outras"
   ]
  },
  {
   "cell_type": "code",
   "execution_count": 10,
   "metadata": {},
   "outputs": [
    {
     "data": {
      "text/plain": [
       "0      2023-08-26\n",
       "1      2023-09-20\n",
       "2      2021-09-30\n",
       "3      2023-10-16\n",
       "4      2022-02-07\n",
       "          ...    \n",
       "967     Em aberto\n",
       "968     Em aberto\n",
       "969     Em aberto\n",
       "970     Em aberto\n",
       "971     Em aberto\n",
       "Name: FUNIL_ASSINATURA_PIPEDRIVE_lost_time, Length: 972, dtype: object"
      ]
     },
     "execution_count": 10,
     "metadata": {},
     "output_type": "execute_result"
    }
   ],
   "source": [
    "data['FUNIL_ASSINATURA_PIPEDRIVE_lost_time']"
   ]
  },
  {
   "cell_type": "markdown",
   "metadata": {},
   "source": [
    "## Coluna extra: Tempo de permanência\n",
    "\n",
    "Coluna \"stay_time\" criada para calcular tempo total do usuário na plataforma. Utiliza lost_time - start_of_service ou lost_time - contract_start_date, se os dados de start_of_service forem nulos. "
   ]
  },
  {
   "cell_type": "markdown",
   "metadata": {},
   "source": [
    "## FUNIL_ASSINATURA_PIPEDRIVE_lost_reason"
   ]
  },
  {
   "cell_type": "markdown",
   "metadata": {},
   "source": [
    "Faz one hot encoding para motivos de cancelamento de assinatura"
   ]
  },
  {
   "cell_type": "code",
   "execution_count": 11,
   "metadata": {},
   "outputs": [
    {
     "data": {
      "text/plain": [
       "Outro                                                         601\n",
       "[Assinatura] Desligamento                                     211\n",
       "[Assinatura] Empresa cancelou o benefício da Ana               53\n",
       "[Assinatura] Não quer seguir com a Ana                         49\n",
       "[Assinatura] Precisou cortar custos                            24\n",
       "[Assinatura] Cancelamento por inadimplência                    18\n",
       "[Assinatura] Está sem tempo para conciliar os atendimentos     16\n",
       "Name: FUNIL_ASSINATURA_PIPEDRIVE_lost_reason, dtype: int64"
      ]
     },
     "execution_count": 11,
     "metadata": {},
     "output_type": "execute_result"
    }
   ],
   "source": [
    "data['FUNIL_ASSINATURA_PIPEDRIVE_lost_reason'].value_counts()"
   ]
  },
  {
   "cell_type": "code",
   "execution_count": 12,
   "metadata": {},
   "outputs": [],
   "source": [
    "lost_reason_dummies = pd.get_dummies(data['FUNIL_ASSINATURA_PIPEDRIVE_lost_reason'], prefix='lost_reason')\n",
    "data = pd.concat([data, lost_reason_dummies], axis=1)\n"
   ]
  },
  {
   "cell_type": "markdown",
   "metadata": {},
   "source": [
    "## FUNIL_ONBOARDING_PIPEDRIVE_add_time\n",
    "\n",
    "Tudo certo por aqui, nada a acrescentar"
   ]
  },
  {
   "cell_type": "code",
   "execution_count": 13,
   "metadata": {},
   "outputs": [
    {
     "data": {
      "text/plain": [
       "0      2021-09-16 18:15:11\n",
       "1      2022-06-21 23:48:22\n",
       "2      2021-09-16 18:28:04\n",
       "3      2021-09-16 18:04:29\n",
       "4      2021-09-16 18:05:03\n",
       "              ...         \n",
       "967    2023-11-06 18:34:05\n",
       "968    2023-11-07 12:22:13\n",
       "969    2023-11-07 13:05:44\n",
       "970    2023-11-07 20:34:02\n",
       "971    2023-11-08 19:03:40\n",
       "Name: FUNIL_ONBOARDING_PIPEDRIVE_add_time, Length: 972, dtype: object"
      ]
     },
     "execution_count": 13,
     "metadata": {},
     "output_type": "execute_result"
    }
   ],
   "source": [
    "data['FUNIL_ONBOARDING_PIPEDRIVE_add_time']"
   ]
  },
  {
   "cell_type": "markdown",
   "metadata": {},
   "source": [
    "## FUNIL_ONBOARDING_PIPEDRIVE_status\n",
    "\n",
    "One-hot encoding aplicado nessa coluna"
   ]
  },
  {
   "cell_type": "code",
   "execution_count": 14,
   "metadata": {},
   "outputs": [
    {
     "data": {
      "text/plain": [
       "won             579\n",
       "lost            258\n",
       "open             99\n",
       "Não iniciado     36\n",
       "Name: FUNIL_ONBOARDING_PIPEDRIVE_status, dtype: int64"
      ]
     },
     "execution_count": 14,
     "metadata": {},
     "output_type": "execute_result"
    }
   ],
   "source": [
    "data['FUNIL_ONBOARDING_PIPEDRIVE_status'].value_counts()"
   ]
  },
  {
   "cell_type": "code",
   "execution_count": 15,
   "metadata": {},
   "outputs": [],
   "source": [
    "data_status_encoded = pd.get_dummies(data['FUNIL_ONBOARDING_PIPEDRIVE_status'], prefix='Status')\n",
    "data = pd.concat([data, data_status_encoded], axis=1)"
   ]
  },
  {
   "cell_type": "markdown",
   "metadata": {},
   "source": [
    "## FUNIL_ONBOARDING_PIPEDRIVE_lost_reason\n",
    "\n",
    "One hot encoding aplicado na coluna"
   ]
  },
  {
   "cell_type": "code",
   "execution_count": 16,
   "metadata": {},
   "outputs": [
    {
     "data": {
      "text/plain": [
       "Outro                                                                747\n",
       "[Onboarding] Não retornou aos contatos de resgate                    195\n",
       "[Onboarding] Não tem interesse em seguir nas etapas do onboarding     18\n",
       "[Associade] Cancelou assinatura                                       12\n",
       "Name: FUNIL_ONBOARDING_PIPEDRIVE_lost_reason, dtype: int64"
      ]
     },
     "execution_count": 16,
     "metadata": {},
     "output_type": "execute_result"
    }
   ],
   "source": [
    "data['FUNIL_ONBOARDING_PIPEDRIVE_lost_reason'].value_counts()"
   ]
  },
  {
   "cell_type": "code",
   "execution_count": 17,
   "metadata": {},
   "outputs": [],
   "source": [
    "lost_reason_dummies = pd.get_dummies(data['FUNIL_ONBOARDING_PIPEDRIVE_lost_reason'], prefix='lost_reason')\n",
    "data = pd.concat([data, lost_reason_dummies], axis=1)\n"
   ]
  },
  {
   "cell_type": "markdown",
   "metadata": {},
   "source": [
    "## FUNIL_ONBOARDING_PIPEDRIVE_activities_count\n",
    "\n",
    "Tudo certo por aqui, nada a acrescentar"
   ]
  },
  {
   "cell_type": "code",
   "execution_count": 18,
   "metadata": {},
   "outputs": [
    {
     "data": {
      "text/plain": [
       "0      0\n",
       "1      0\n",
       "2      0\n",
       "3      2\n",
       "4      0\n",
       "      ..\n",
       "967    0\n",
       "968    0\n",
       "969    0\n",
       "970    0\n",
       "971    0\n",
       "Name: FUNIL_ONBOARDING_PIPEDRIVE_activities_count, Length: 972, dtype: int64"
      ]
     },
     "execution_count": 18,
     "metadata": {},
     "output_type": "execute_result"
    }
   ],
   "source": [
    "data['FUNIL_ONBOARDING_PIPEDRIVE_activities_count']"
   ]
  },
  {
   "cell_type": "markdown",
   "metadata": {},
   "source": [
    "## ATENDIMENTOS_AGENDA_Qde Todos Atendimentos\n",
    "\n",
    "Dados não fornecidos pela empresa, coluna será dropada"
   ]
  },
  {
   "cell_type": "code",
   "execution_count": 19,
   "metadata": {},
   "outputs": [
    {
     "data": {
      "text/plain": [
       "0       2\n",
       "1      25\n",
       "2       0\n",
       "3       0\n",
       "4       0\n",
       "       ..\n",
       "967     0\n",
       "968     1\n",
       "969     0\n",
       "970     2\n",
       "971     0\n",
       "Name: ATENDIMENTOS_AGENDA_Qde Todos Atendimentos, Length: 972, dtype: int64"
      ]
     },
     "execution_count": 19,
     "metadata": {},
     "output_type": "execute_result"
    }
   ],
   "source": [
    "data['ATENDIMENTOS_AGENDA_Qde Todos Atendimentos']"
   ]
  },
  {
   "cell_type": "code",
   "execution_count": 20,
   "metadata": {},
   "outputs": [],
   "source": [
    "data.drop('ATENDIMENTOS_AGENDA_Qde Todos Atendimentos', axis='columns', inplace=True)"
   ]
  },
  {
   "cell_type": "markdown",
   "metadata": {},
   "source": [
    "## ATENDIMENTOS_AGENDA_Qde Atendimento Médico\n",
    "\n",
    "Tudo certo por aqui, nada a acrescentar\n"
   ]
  },
  {
   "cell_type": "code",
   "execution_count": 21,
   "metadata": {},
   "outputs": [
    {
     "data": {
      "text/plain": [
       "0      0\n",
       "1      1\n",
       "2      0\n",
       "3      0\n",
       "4      0\n",
       "      ..\n",
       "967    0\n",
       "968    0\n",
       "969    0\n",
       "970    0\n",
       "971    0\n",
       "Name: ATENDIMENTOS_AGENDA_Qde Atendimento Médico, Length: 972, dtype: int64"
      ]
     },
     "execution_count": 21,
     "metadata": {},
     "output_type": "execute_result"
    }
   ],
   "source": [
    "data['ATENDIMENTOS_AGENDA_Qde Atendimento Médico']"
   ]
  },
  {
   "cell_type": "markdown",
   "metadata": {},
   "source": [
    "## ATENDIMENTOS_AGENDA_Faltas Atendimento Médico\n",
    "\n",
    "Tudo certo por aqui, nada a acrescentar"
   ]
  },
  {
   "cell_type": "code",
   "execution_count": 22,
   "metadata": {},
   "outputs": [
    {
     "data": {
      "text/plain": [
       "0      0\n",
       "1      0\n",
       "2      0\n",
       "3      0\n",
       "4      0\n",
       "      ..\n",
       "967    0\n",
       "968    0\n",
       "969    0\n",
       "970    0\n",
       "971    0\n",
       "Name: ATENDIMENTOS_AGENDA_Faltas Atendimento Médico, Length: 972, dtype: int64"
      ]
     },
     "execution_count": 22,
     "metadata": {},
     "output_type": "execute_result"
    }
   ],
   "source": [
    "data['ATENDIMENTOS_AGENDA_Faltas Atendimento Médico']\n"
   ]
  },
  {
   "cell_type": "markdown",
   "metadata": {},
   "source": [
    "## ATENDIMENTOS_AGENDA_Datas Atendimento Médico\n",
    "\n",
    "Tudo certo por aqui, nada a acrescentar"
   ]
  },
  {
   "cell_type": "code",
   "execution_count": 23,
   "metadata": {},
   "outputs": [
    {
     "data": {
      "text/plain": [
       "0            Nunca ocorreu\n",
       "1      2023-01-12 17:00:00\n",
       "2            Nunca ocorreu\n",
       "3            Nunca ocorreu\n",
       "4            Nunca ocorreu\n",
       "              ...         \n",
       "967          Nunca ocorreu\n",
       "968          Nunca ocorreu\n",
       "969          Nunca ocorreu\n",
       "970          Nunca ocorreu\n",
       "971          Nunca ocorreu\n",
       "Name: ATENDIMENTOS_AGENDA_Datas Atendimento Médico, Length: 972, dtype: object"
      ]
     },
     "execution_count": 23,
     "metadata": {},
     "output_type": "execute_result"
    }
   ],
   "source": [
    "data['ATENDIMENTOS_AGENDA_Datas Atendimento Médico']"
   ]
  }
 ],
 "metadata": {
  "kernelspec": {
   "display_name": "Python 3",
   "language": "python",
   "name": "python3"
  },
  "language_info": {
   "codemirror_mode": {
    "name": "ipython",
    "version": 3
   },
   "file_extension": ".py",
   "mimetype": "text/x-python",
   "name": "python",
   "nbconvert_exporter": "python",
   "pygments_lexer": "ipython3",
   "version": "3.10.2"
  }
 },
 "nbformat": 4,
 "nbformat_minor": 2
}
