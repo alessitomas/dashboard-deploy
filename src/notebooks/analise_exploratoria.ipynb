{
 "cells": [
  {
   "cell_type": "code",
   "execution_count": 21,
   "metadata": {},
   "outputs": [],
   "source": [
    "import pandas as pd\n",
    "data = pd.read_csv(\"../../data/data-preprocessed.csv\")"
   ]
  },
  {
   "cell_type": "code",
   "execution_count": 22,
   "metadata": {},
   "outputs": [
    {
     "data": {
      "text/plain": [
       "Index(['PESSOA_PIPEDRIVE_id_person', 'PESSOA_PIPEDRIVE_id_gender',\n",
       "       'PESSOA_PIPEDRIVE_id_marrital_status', 'PESSOA_PIPEDRIVE_state',\n",
       "       'PESSOA_PIPEDRIVE_city', 'PESSOA_PIPEDRIVE_postal_code',\n",
       "       'PESSOA_PIPEDRIVE_contract_start_date',\n",
       "       'PESSOA_PIPEDRIVE_contract_end_date',\n",
       "       'PESSOA_PIPEDRIVE_Canal de Preferência', 'PESSOA_PIPEDRIVE_notes_count',\n",
       "       'PESSOA_PIPEDRIVE_done_activities_count',\n",
       "       'FUNIL_ASSINATURA_PIPEDRIVE_id_stage',\n",
       "       'FUNIL_ASSINATURA_PIPEDRIVE_id_org',\n",
       "       'FUNIL_ASSINATURA_PIPEDRIVE_status',\n",
       "       'FUNIL_ASSINATURA_PIPEDRIVE_start_of_service',\n",
       "       'FUNIL_ASSINATURA_PIPEDRIVE_lost_time',\n",
       "       'FUNIL_ASSINATURA_PIPEDRIVE_lost_reason',\n",
       "       'FUNIL_ONBOARDING_PIPEDRIVE_add_time',\n",
       "       'FUNIL_ONBOARDING_PIPEDRIVE_status',\n",
       "       'FUNIL_ONBOARDING_PIPEDRIVE_stay_in_pipeline_stages_welcome',\n",
       "       'FUNIL_ONBOARDING_PIPEDRIVE_stay_in_pipeline_stages_first_meeting',\n",
       "       'FUNIL_ONBOARDING_PIPEDRIVE_stay_in_pipeline_stages_whoqol',\n",
       "       'FUNIL_ONBOARDING_PIPEDRIVE_won_time',\n",
       "       'FUNIL_ONBOARDING_PIPEDRIVE_lost_time',\n",
       "       'FUNIL_ONBOARDING_PIPEDRIVE_lost_reason',\n",
       "       'FUNIL_ONBOARDING_PIPEDRIVE_activities_count', 'Qde Todos Atendimentos',\n",
       "       'ATENDIMENTOS_AGENDA_Faltas Todos Atendimento',\n",
       "       'ATENDIMENTOS_AGENDA_Cancelamentos Todos Atendimento',\n",
       "       'ATENDIMENTOS_AGENDA_Qde Atendimento Médico',\n",
       "       'ATENDIMENTOS_AGENDA_Faltas Atendimento Médico',\n",
       "       'ATENDIMENTOS_AGENDA_Cancelamentos Atendimento Médico',\n",
       "       'ATENDIMENTOS_AGENDA_Datas Atendimento Médico',\n",
       "       'ATENDIMENTOS_AGENDA_Qde Atendimentos Acolhimento',\n",
       "       'ATENDIMENTOS_AGENDA_Faltas Acolhimento',\n",
       "       'ATENDIMENTOS_AGENDA_Cancelamentos Acolhimento',\n",
       "       'ATENDIMENTOS_AGENDA_Datas Acolhimento',\n",
       "       'ATENDIMENTOS_AGENDA_Qde Psicoterapia',\n",
       "       'ATENDIMENTOS_AGENDA_Cancelamentos Psicoterapia',\n",
       "       'ATENDIMENTOS_AGENDA_Qde Prescrições',\n",
       "       'ATENDIMENTOS_AGENDA_Datas Prescrição', 'TWILIO_Mensagens Inbound',\n",
       "       'TWILIO_Mensagens Outbound', 'TWILIO_Ligações Outbound',\n",
       "       'PESSOA_PIPEDRIVE_age', 'PESSOA_PIPEDRIVE_has_public_health_plan',\n",
       "       'PESSOA_PIPEDRIVE_tem_data_dataframe_de_termino_de_contrato',\n",
       "       'PESSOA_PIPEDRIVE_Tem_Canal_de_Preferência',\n",
       "       'PESSOA_PIPEDRIVE_has_notes',\n",
       "       'ATENDIMENTOS_AGENDA_Datas Psicoterapia Recente', 'WHOQOL_Físico_New',\n",
       "       'WHOQOL_Psicológico_New', 'WHOQOL_Social_New', 'WHOQOL_Ambiental_New',\n",
       "       'COMUNICARE_Problemas Abertos Bool',\n",
       "       'TWILIO_Data Última Mensagens Inbound Recente',\n",
       "       'TWILIO_Data Última Mensagens Outbound Recente',\n",
       "       'TWILIO_Data Última Ligações Outbound Recente'],\n",
       "      dtype='object')"
      ]
     },
     "execution_count": 22,
     "metadata": {},
     "output_type": "execute_result"
    }
   ],
   "source": [
    "data.columns"
   ]
  },
  {
   "cell_type": "markdown",
   "metadata": {},
   "source": [
    "# Permitir apenas dados que tenham postal code"
   ]
  },
  {
   "cell_type": "code",
   "execution_count": 23,
   "metadata": {},
   "outputs": [
    {
     "data": {
      "text/plain": [
       "8"
      ]
     },
     "execution_count": 23,
     "metadata": {},
     "output_type": "execute_result"
    }
   ],
   "source": [
    "len(data)"
   ]
  },
  {
   "cell_type": "code",
   "execution_count": 24,
   "metadata": {},
   "outputs": [],
   "source": [
    "data_filtered = data[data[\"PESSOA_PIPEDRIVE_postal_code\"].isna() ]"
   ]
  },
  {
   "cell_type": "code",
   "execution_count": null,
   "metadata": {},
   "outputs": [],
   "source": []
  }
 ],
 "metadata": {
  "kernelspec": {
   "display_name": "env",
   "language": "python",
   "name": "python3"
  },
  "language_info": {
   "codemirror_mode": {
    "name": "ipython",
    "version": 3
   },
   "file_extension": ".py",
   "mimetype": "text/x-python",
   "name": "python",
   "nbconvert_exporter": "python",
   "pygments_lexer": "ipython3",
   "version": "3.11.3"
  }
 },
 "nbformat": 4,
 "nbformat_minor": 2
}
