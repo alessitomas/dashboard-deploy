{
 "cells": [
  {
   "cell_type": "code",
   "execution_count": 12,
   "metadata": {},
   "outputs": [],
   "source": [
    "import pandas as pd\n",
    "import missingno as msno\n",
    "from data_preprocessing import preprocessing\n",
    "\n",
    "data = pd.read_csv(\"../../data/Ana Health_Tabela Modelo Previsão Churn - Tabela.csv\")"
   ]
  },
  {
   "cell_type": "code",
   "execution_count": 13,
   "metadata": {},
   "outputs": [
    {
     "data": {
      "text/plain": [
       "1203"
      ]
     },
     "execution_count": 13,
     "metadata": {},
     "output_type": "execute_result"
    }
   ],
   "source": [
    "len(data)"
   ]
  },
  {
   "cell_type": "code",
   "execution_count": 14,
   "metadata": {},
   "outputs": [
    {
     "ename": "NameError",
     "evalue": "name 'SimpleImputer' is not defined",
     "output_type": "error",
     "traceback": [
      "\u001b[0;31m---------------------------------------------------------------------------\u001b[0m",
      "\u001b[0;31mNameError\u001b[0m                                 Traceback (most recent call last)",
      "\u001b[1;32m/Users/st4pzz/Desktop/insper_2023.2/SPRINT/sprint4-support-vector-team/src/scripts/teste.ipynb Célula 3\u001b[0m line \u001b[0;36m1\n\u001b[0;32m----> <a href='vscode-notebook-cell:/Users/st4pzz/Desktop/insper_2023.2/SPRINT/sprint4-support-vector-team/src/scripts/teste.ipynb#W2sZmlsZQ%3D%3D?line=0'>1</a>\u001b[0m data \u001b[39m=\u001b[39m preprocessing(data)\n",
      "File \u001b[0;32m~/Desktop/insper_2023.2/SPRINT/sprint4-support-vector-team/src/scripts/data_preprocessing.py:43\u001b[0m, in \u001b[0;36mpreprocessing\u001b[0;34m(data_dataframe)\u001b[0m\n\u001b[1;32m     38\u001b[0m data_dataframe[\u001b[39m'\u001b[39m\u001b[39mPESSOA_PIPEDRIVE_birthdate\u001b[39m\u001b[39m'\u001b[39m] \u001b[39m=\u001b[39m pd\u001b[39m.\u001b[39mto_datetime(data_dataframe[\u001b[39m'\u001b[39m\u001b[39mPESSOA_PIPEDRIVE_birthdate\u001b[39m\u001b[39m'\u001b[39m])\n\u001b[1;32m     39\u001b[0m data_dataframe[\u001b[39m'\u001b[39m\u001b[39mPESSOA_PIPEDRIVE_age\u001b[39m\u001b[39m'\u001b[39m] \u001b[39m=\u001b[39m data_dataframe[\u001b[39m'\u001b[39m\u001b[39mPESSOA_PIPEDRIVE_birthdate\u001b[39m\u001b[39m'\u001b[39m]\u001b[39m.\u001b[39mapply(\n\u001b[1;32m     40\u001b[0m     \u001b[39mlambda\u001b[39;00m x: datetime\u001b[39m.\u001b[39mtoday()\u001b[39m.\u001b[39myear \u001b[39m-\u001b[39m x\u001b[39m.\u001b[39myear \u001b[39m-\u001b[39m ((datetime\u001b[39m.\u001b[39mtoday()\u001b[39m.\u001b[39mmonth, datetime\u001b[39m.\u001b[39mtoday()\u001b[39m.\u001b[39mday) \u001b[39m<\u001b[39m (x\u001b[39m.\u001b[39mmonth, x\u001b[39m.\u001b[39mday))\n\u001b[1;32m     41\u001b[0m )\n\u001b[0;32m---> 43\u001b[0m imputer \u001b[39m=\u001b[39m SimpleImputer(strategy\u001b[39m=\u001b[39m\u001b[39m'\u001b[39m\u001b[39mmean\u001b[39m\u001b[39m'\u001b[39m)\n\u001b[1;32m     44\u001b[0m data_dataframe[\u001b[39m'\u001b[39m\u001b[39mPESSOA_PIPEDRIVE_age\u001b[39m\u001b[39m'\u001b[39m] \u001b[39m=\u001b[39m imputer\u001b[39m.\u001b[39mfit_transform(data_dataframe[\u001b[39m'\u001b[39m\u001b[39mPESSOA_PIPEDRIVE_age\u001b[39m\u001b[39m'\u001b[39m]\u001b[39m.\u001b[39mvalues\u001b[39m.\u001b[39mreshape(\u001b[39m-\u001b[39m\u001b[39m1\u001b[39m, \u001b[39m1\u001b[39m))\n\u001b[1;32m     45\u001b[0m data_dataframe[\u001b[39m'\u001b[39m\u001b[39mPESSOA_PIPEDRIVE_age\u001b[39m\u001b[39m'\u001b[39m] \u001b[39m=\u001b[39m np\u001b[39m.\u001b[39mround(data_dataframe[\u001b[39m'\u001b[39m\u001b[39mPESSOA_PIPEDRIVE_age\u001b[39m\u001b[39m'\u001b[39m])\u001b[39m.\u001b[39mastype(\u001b[39mint\u001b[39m)\n",
      "\u001b[0;31mNameError\u001b[0m: name 'SimpleImputer' is not defined"
     ]
    }
   ],
   "source": [
    "data = preprocessing(data)"
   ]
  },
  {
   "cell_type": "code",
   "execution_count": 15,
   "metadata": {},
   "outputs": [
    {
     "data": {
      "text/plain": [
       "8"
      ]
     },
     "execution_count": 15,
     "metadata": {},
     "output_type": "execute_result"
    }
   ],
   "source": [
    "len(data)"
   ]
  },
  {
   "cell_type": "code",
   "execution_count": 16,
   "metadata": {},
   "outputs": [],
   "source": [
    "data.to_csv(\"data-preprocessed.csv\", index=False)"
   ]
  }
 ],
 "metadata": {
  "kernelspec": {
   "display_name": "env",
   "language": "python",
   "name": "python3"
  },
  "language_info": {
   "codemirror_mode": {
    "name": "ipython",
    "version": 3
   },
   "file_extension": ".py",
   "mimetype": "text/x-python",
   "name": "python",
   "nbconvert_exporter": "python",
   "pygments_lexer": "ipython3",
   "version": "3.9.10"
  }
 },
 "nbformat": 4,
 "nbformat_minor": 2
}
